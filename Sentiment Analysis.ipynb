{
 "cells": [
  {
   "cell_type": "code",
   "execution_count": 1,
   "id": "cf088c2a",
   "metadata": {},
   "outputs": [],
   "source": [
    "import pandas as pd\n",
    "pd.set_option(\"display.max_colwidth\", 200)"
   ]
  },
  {
   "cell_type": "code",
   "execution_count": 2,
   "id": "1a418bba",
   "metadata": {},
   "outputs": [
    {
     "data": {
      "text/html": [
       "<div>\n",
       "<style scoped>\n",
       "    .dataframe tbody tr th:only-of-type {\n",
       "        vertical-align: middle;\n",
       "    }\n",
       "\n",
       "    .dataframe tbody tr th {\n",
       "        vertical-align: top;\n",
       "    }\n",
       "\n",
       "    .dataframe thead th {\n",
       "        text-align: right;\n",
       "    }\n",
       "</style>\n",
       "<table border=\"1\" class=\"dataframe\">\n",
       "  <thead>\n",
       "    <tr style=\"text-align: right;\">\n",
       "      <th></th>\n",
       "      <th>id</th>\n",
       "      <th>label</th>\n",
       "      <th>tweet</th>\n",
       "    </tr>\n",
       "  </thead>\n",
       "  <tbody>\n",
       "    <tr>\n",
       "      <th>0</th>\n",
       "      <td>1</td>\n",
       "      <td>0</td>\n",
       "      <td>#fingerprint #Pregnancy Test https://goo.gl/h1MfQV #android #apps #beautiful #cute #health #igers #iphoneonly #iphonesia #iphone</td>\n",
       "    </tr>\n",
       "    <tr>\n",
       "      <th>1</th>\n",
       "      <td>2</td>\n",
       "      <td>0</td>\n",
       "      <td>Finally a transparant silicon case ^^ Thanks to my uncle :) #yay #Sony #Xperia #S #sonyexperias… http://instagram.com/p/YGEt5JC6JM/</td>\n",
       "    </tr>\n",
       "    <tr>\n",
       "      <th>2</th>\n",
       "      <td>3</td>\n",
       "      <td>0</td>\n",
       "      <td>We love this! Would you go? #talk #makememories #unplug #relax #iphone #smartphone #wifi #connect... http://fb.me/6N3LsUpCu</td>\n",
       "    </tr>\n",
       "    <tr>\n",
       "      <th>3</th>\n",
       "      <td>4</td>\n",
       "      <td>0</td>\n",
       "      <td>I'm wired I know I'm George I was made that way ;) #iphone #cute #daventry #home http://instagr.am/p/Li_5_ujS4k/</td>\n",
       "    </tr>\n",
       "    <tr>\n",
       "      <th>4</th>\n",
       "      <td>5</td>\n",
       "      <td>1</td>\n",
       "      <td>What amazing service! Apple won't even talk to me about a question I have unless I pay them $19.95 for their stupid support!</td>\n",
       "    </tr>\n",
       "  </tbody>\n",
       "</table>\n",
       "</div>"
      ],
      "text/plain": [
       "   id  label  \\\n",
       "0   1      0   \n",
       "1   2      0   \n",
       "2   3      0   \n",
       "3   4      0   \n",
       "4   5      1   \n",
       "\n",
       "                                                                                                                                 tweet  \n",
       "0     #fingerprint #Pregnancy Test https://goo.gl/h1MfQV #android #apps #beautiful #cute #health #igers #iphoneonly #iphonesia #iphone  \n",
       "1  Finally a transparant silicon case ^^ Thanks to my uncle :) #yay #Sony #Xperia #S #sonyexperias… http://instagram.com/p/YGEt5JC6JM/  \n",
       "2          We love this! Would you go? #talk #makememories #unplug #relax #iphone #smartphone #wifi #connect... http://fb.me/6N3LsUpCu  \n",
       "3                     I'm wired I know I'm George I was made that way ;) #iphone #cute #daventry #home http://instagr.am/p/Li_5_ujS4k/  \n",
       "4         What amazing service! Apple won't even talk to me about a question I have unless I pay them $19.95 for their stupid support!  "
      ]
     },
     "execution_count": 2,
     "metadata": {},
     "output_type": "execute_result"
    }
   ],
   "source": [
    "data = pd.read_csv('tweets.csv')\n",
    "data.head()"
   ]
  },
  {
   "cell_type": "code",
   "execution_count": 3,
   "id": "9e83d502",
   "metadata": {},
   "outputs": [],
   "source": [
    "# 0 refers to positive sentiment, 1 is negative sentiment"
   ]
  },
  {
   "cell_type": "code",
   "execution_count": 4,
   "id": "13a2924c",
   "metadata": {},
   "outputs": [
    {
     "name": "stdout",
     "output_type": "stream",
     "text": [
      "<class 'pandas.core.frame.DataFrame'>\n",
      "RangeIndex: 7920 entries, 0 to 7919\n",
      "Data columns (total 3 columns):\n",
      " #   Column  Non-Null Count  Dtype \n",
      "---  ------  --------------  ----- \n",
      " 0   id      7920 non-null   int64 \n",
      " 1   label   7920 non-null   int64 \n",
      " 2   tweet   7920 non-null   object\n",
      "dtypes: int64(2), object(1)\n",
      "memory usage: 185.8+ KB\n"
     ]
    }
   ],
   "source": [
    "data.info()"
   ]
  },
  {
   "cell_type": "code",
   "execution_count": 5,
   "id": "3f144bd4",
   "metadata": {},
   "outputs": [
    {
     "data": {
      "text/plain": [
       "id       0\n",
       "label    0\n",
       "tweet    0\n",
       "dtype: int64"
      ]
     },
     "execution_count": 5,
     "metadata": {},
     "output_type": "execute_result"
    }
   ],
   "source": [
    "# check for missing values\n",
    "data.isnull().sum()"
   ]
  },
  {
   "cell_type": "code",
   "execution_count": 6,
   "id": "e53ed2d2",
   "metadata": {},
   "outputs": [
    {
     "data": {
      "text/html": [
       "<div>\n",
       "<style scoped>\n",
       "    .dataframe tbody tr th:only-of-type {\n",
       "        vertical-align: middle;\n",
       "    }\n",
       "\n",
       "    .dataframe tbody tr th {\n",
       "        vertical-align: top;\n",
       "    }\n",
       "\n",
       "    .dataframe thead th {\n",
       "        text-align: right;\n",
       "    }\n",
       "</style>\n",
       "<table border=\"1\" class=\"dataframe\">\n",
       "  <thead>\n",
       "    <tr style=\"text-align: right;\">\n",
       "      <th></th>\n",
       "      <th>label</th>\n",
       "      <th>tweet</th>\n",
       "    </tr>\n",
       "  </thead>\n",
       "  <tbody>\n",
       "    <tr>\n",
       "      <th>0</th>\n",
       "      <td>0</td>\n",
       "      <td>#fingerprint #Pregnancy Test https://goo.gl/h1MfQV #android #apps #beautiful #cute #health #igers #iphoneonly #iphonesia #iphone</td>\n",
       "    </tr>\n",
       "    <tr>\n",
       "      <th>1</th>\n",
       "      <td>0</td>\n",
       "      <td>Finally a transparant silicon case ^^ Thanks to my uncle :) #yay #Sony #Xperia #S #sonyexperias… http://instagram.com/p/YGEt5JC6JM/</td>\n",
       "    </tr>\n",
       "    <tr>\n",
       "      <th>2</th>\n",
       "      <td>0</td>\n",
       "      <td>We love this! Would you go? #talk #makememories #unplug #relax #iphone #smartphone #wifi #connect... http://fb.me/6N3LsUpCu</td>\n",
       "    </tr>\n",
       "    <tr>\n",
       "      <th>3</th>\n",
       "      <td>0</td>\n",
       "      <td>I'm wired I know I'm George I was made that way ;) #iphone #cute #daventry #home http://instagr.am/p/Li_5_ujS4k/</td>\n",
       "    </tr>\n",
       "    <tr>\n",
       "      <th>4</th>\n",
       "      <td>1</td>\n",
       "      <td>What amazing service! Apple won't even talk to me about a question I have unless I pay them $19.95 for their stupid support!</td>\n",
       "    </tr>\n",
       "  </tbody>\n",
       "</table>\n",
       "</div>"
      ],
      "text/plain": [
       "   label  \\\n",
       "0      0   \n",
       "1      0   \n",
       "2      0   \n",
       "3      0   \n",
       "4      1   \n",
       "\n",
       "                                                                                                                                 tweet  \n",
       "0     #fingerprint #Pregnancy Test https://goo.gl/h1MfQV #android #apps #beautiful #cute #health #igers #iphoneonly #iphonesia #iphone  \n",
       "1  Finally a transparant silicon case ^^ Thanks to my uncle :) #yay #Sony #Xperia #S #sonyexperias… http://instagram.com/p/YGEt5JC6JM/  \n",
       "2          We love this! Would you go? #talk #makememories #unplug #relax #iphone #smartphone #wifi #connect... http://fb.me/6N3LsUpCu  \n",
       "3                     I'm wired I know I'm George I was made that way ;) #iphone #cute #daventry #home http://instagr.am/p/Li_5_ujS4k/  \n",
       "4         What amazing service! Apple won't even talk to me about a question I have unless I pay them $19.95 for their stupid support!  "
      ]
     },
     "execution_count": 6,
     "metadata": {},
     "output_type": "execute_result"
    }
   ],
   "source": [
    "# drop the id column\n",
    "data.drop(['id'], axis=1, inplace=True)\n",
    "data.head()"
   ]
  },
  {
   "cell_type": "code",
   "execution_count": 7,
   "id": "da996cad",
   "metadata": {},
   "outputs": [
    {
     "data": {
      "text/plain": [
       "0    0.744192\n",
       "1    0.255808\n",
       "Name: label, dtype: float64"
      ]
     },
     "execution_count": 7,
     "metadata": {},
     "output_type": "execute_result"
    }
   ],
   "source": [
    "# Check for the class balance\n",
    "data['label'].value_counts(normalize=True)"
   ]
  },
  {
   "cell_type": "code",
   "execution_count": 8,
   "id": "5720bde5",
   "metadata": {},
   "outputs": [
    {
     "data": {
      "text/plain": [
       "<AxesSubplot:>"
      ]
     },
     "execution_count": 8,
     "metadata": {},
     "output_type": "execute_result"
    },
    {
     "data": {
      "image/png": "[encoded data removed]",
      "text/plain": [
       "<Figure size 640x480 with 1 Axes>"
      ]
     },
     "metadata": {},
     "output_type": "display_data"
    }
   ],
   "source": [
    "# plot the label counts \n",
    "data['label'].value_counts().plot(kind='bar')"
   ]
  },
  {
   "cell_type": "markdown",
   "id": "57b1958f",
   "metadata": {},
   "source": [
    "# Data Cleaning"
   ]
  },
  {
   "cell_type": "code",
   "execution_count": 9,
   "id": "b5404336",
   "metadata": {},
   "outputs": [
    {
     "data": {
      "text/plain": [
       "\"It's time for new wallpapers #phone #wallpapers #wall #screen #galaxy #samsung #app … https://www.instagram.com/p/BcsKTNNn51c/\""
      ]
     },
     "execution_count": 9,
     "metadata": {},
     "output_type": "execute_result"
    }
   ],
   "source": [
    "data['tweet'][24]"
   ]
  },
  {
   "cell_type": "code",
   "execution_count": 10,
   "id": "2d34b341",
   "metadata": {},
   "outputs": [],
   "source": [
    "import re"
   ]
  },
  {
   "cell_type": "code",
   "execution_count": 11,
   "id": "50a4aea6",
   "metadata": {},
   "outputs": [
    {
     "data": {
      "text/plain": [
       "'It is time for new wallpapers #phone #wallpapers #wall #screen #galaxy #samsung #app … https://www.instagram.com/p/BcsKTNNn51c/'"
      ]
     },
     "execution_count": 11,
     "metadata": {},
     "output_type": "execute_result"
    }
   ],
   "source": [
    "# Substitute 's with \" is\" \n",
    "re.sub(r\"'s\\b\", \" is\", data['tweet'][24])"
   ]
  },
  {
   "cell_type": "code",
   "execution_count": 12,
   "id": "b8cbc467",
   "metadata": {},
   "outputs": [
    {
     "data": {
      "text/plain": [
       "'Ha! Not heavy machinery but it does what I need it to. @Apple really dropped the ball with that design. #drinkyourhaterade'"
      ]
     },
     "execution_count": 12,
     "metadata": {},
     "output_type": "execute_result"
    }
   ],
   "source": [
    "# Removing the user mentions\n",
    "data['tweet'][11]"
   ]
  },
  {
   "cell_type": "code",
   "execution_count": 13,
   "id": "d55e0ca5",
   "metadata": {},
   "outputs": [
    {
     "data": {
      "text/plain": [
       "'Ha! Not heavy machinery but it does what I need it to.  really dropped the ball with that design. #drinkyourhaterade'"
      ]
     },
     "execution_count": 13,
     "metadata": {},
     "output_type": "execute_result"
    }
   ],
   "source": [
    "# We'll retain on the alphabets & digits\n",
    "re.sub(\"@[A-Za-z0-9]+\", \"\", data['tweet'][11])"
   ]
  },
  {
   "cell_type": "code",
   "execution_count": 14,
   "id": "1ed800ac",
   "metadata": {},
   "outputs": [
    {
     "data": {
      "text/plain": [
       "'#fingerprint #Pregnancy Test https://goo.gl/h1MfQV #android #apps #beautiful #cute #health #igers #iphoneonly #iphonesia #iphone'"
      ]
     },
     "execution_count": 14,
     "metadata": {},
     "output_type": "execute_result"
    }
   ],
   "source": [
    "# remive the hashtags\n",
    "data['tweet'][0]"
   ]
  },
  {
   "cell_type": "code",
   "execution_count": 15,
   "id": "b2ac63dc",
   "metadata": {},
   "outputs": [
    {
     "data": {
      "text/plain": [
       "'fingerprint Pregnancy Test https://goo.gl/h1MfQV android apps beautiful cute health igers iphoneonly iphonesia iphone'"
      ]
     },
     "execution_count": 15,
     "metadata": {},
     "output_type": "execute_result"
    }
   ],
   "source": [
    "re.sub(\"#\", \"\", data['tweet'][0])"
   ]
  },
  {
   "cell_type": "code",
   "execution_count": 16,
   "id": "90aa0ab7",
   "metadata": {},
   "outputs": [
    {
     "data": {
      "text/plain": [
       "'#fingerprint #Pregnancy Test  #android #apps #beautiful #cute #health #igers #iphoneonly #iphonesia #iphone'"
      ]
     },
     "execution_count": 16,
     "metadata": {},
     "output_type": "execute_result"
    }
   ],
   "source": [
    "# Removing the hyperlinks\n",
    "re.sub(r\"http\\S+\", \"\", data['tweet'][0])"
   ]
  },
  {
   "cell_type": "code",
   "execution_count": 17,
   "id": "da0ca2a1",
   "metadata": {},
   "outputs": [
    {
     "data": {
      "text/plain": [
       "'1.05 billion for 3 patents where there is prior art = 300 millions each = patent trolls are partying now thanks to Apple #apple'"
      ]
     },
     "execution_count": 17,
     "metadata": {},
     "output_type": "execute_result"
    }
   ],
   "source": [
    "# Retain on the alphabets (get rid of punctuations, special char, digits)\n",
    "data['tweet'][25]"
   ]
  },
  {
   "cell_type": "code",
   "execution_count": 18,
   "id": "4bc90ff3",
   "metadata": {},
   "outputs": [
    {
     "data": {
      "text/plain": [
       "' fingerprint  Pregnancy Test https   goo gl h MfQV  android  apps  beautiful  cute  health  igers  iphoneonly  iphonesia  iphone'"
      ]
     },
     "execution_count": 18,
     "metadata": {},
     "output_type": "execute_result"
    }
   ],
   "source": [
    "re.sub(r\"[^a-zA-Z]\", \" \", data['tweet'][0])"
   ]
  },
  {
   "cell_type": "code",
   "execution_count": 19,
   "id": "22b76984",
   "metadata": {},
   "outputs": [],
   "source": [
    "# Stop words Removal\n",
    "import nltk\n",
    "from nltk.corpus import stopwords"
   ]
  },
  {
   "cell_type": "code",
   "execution_count": 20,
   "id": "c95785f8",
   "metadata": {},
   "outputs": [
    {
     "name": "stdout",
     "output_type": "stream",
     "text": [
      "{'so', 'further', 'themselves', 'shouldn', 'for', \"couldn't\", 'ourselves', 'your', 'being', 'such', 'was', 'own', 'needn', 'herself', 'too', 'not', 'those', \"it's\", 'in', 'on', 'just', 'hasn', \"isn't\", 'against', 'or', 'doing', 'some', 'there', \"that'll\", 'down', \"you've\", \"shan't\", 'below', 'how', 'no', 'at', 'o', \"wouldn't\", 'itself', \"didn't\", \"should've\", 'each', 'our', 'y', 'weren', 'her', 'i', 'during', 'above', 'under', 'ours', 'them', 'here', 'isn', 'will', 'few', 'and', 'over', 'wasn', 'now', 'most', 'off', 'do', 'which', 'as', 'to', 'did', 'aren', 'before', 'am', 'is', 'a', 'be', 'very', 've', 'these', 'haven', \"doesn't\", 'shan', 'are', 'were', 'more', 'hadn', 'what', 'you', 'wouldn', 'all', 'while', 'through', 're', 'mustn', 'after', \"haven't\", 'ain', 'theirs', 'into', \"she's\", 'their', 'between', 'myself', 'with', 'nor', \"mustn't\", \"you'll\", 'that', 'himself', \"mightn't\", 'up', 'we', 'couldn', 'where', 'd', 'once', 'both', 'don', 'my', 'should', 'won', 'other', 'm', 'an', \"aren't\", 'yourself', 'who', 'he', 'it', 'about', \"shouldn't\", 'because', 'yourselves', 'been', \"you'd\", 'ma', 'if', 'can', 't', 'she', \"you're\", 's', \"hasn't\", 'out', 'of', 'didn', 'only', 'the', 'yours', 'same', 'its', 'does', 'having', 'when', 'his', \"won't\", 'll', 'doesn', 'until', 'me', 'had', \"hadn't\", 'from', 'they', \"weren't\", 'by', 'why', 'any', \"don't\", 'mightn', 'whom', 'has', 'than', 'have', 'but', 'this', 'hers', \"wasn't\", 'him', \"needn't\", 'then', 'again'}\n"
     ]
    }
   ],
   "source": [
    "nltk_stopwords = set(stopwords.words('english'))\n",
    "print(nltk_stopwords)"
   ]
  },
  {
   "cell_type": "code",
   "execution_count": 21,
   "id": "956e36d5",
   "metadata": {},
   "outputs": [
    {
     "data": {
      "text/plain": [
       "179"
      ]
     },
     "execution_count": 21,
     "metadata": {},
     "output_type": "execute_result"
    }
   ],
   "source": [
    "len(nltk_stopwords)"
   ]
  },
  {
   "cell_type": "code",
   "execution_count": 22,
   "id": "645bd670",
   "metadata": {},
   "outputs": [
    {
     "name": "stdout",
     "output_type": "stream",
     "text": [
      "{'beforehand', 'third', 'could', 'almost', 'except', 'for', 'your', 'such', 'thin', 'sometime', 'bill', 'was', 'co', 'keep', 'perhaps', 'therein', 'beside', 'not', 'those', 'hereby', 'anyone', 'in', 'on', 'put', 'hundred', 'against', 'ever', 'rather', 'within', 'whoever', 'eleven', 'there', 'becomes', 'down', 'side', 'no', 'please', 'hasnt', 'often', 'across', 'namely', 'thence', 'each', 'many', 'above', 'during', 'i', 'her', 'under', 'ours', 'amongst', 'without', 'them', 'done', 'alone', 'anyhow', 'towards', 'and', 'over', 'thick', 'now', 'off', 'do', 'though', 'another', 'four', 'etc', 'am', 'anyway', 'again', 'these', 'also', 'six', 'are', 'were', 'more', 'what', 'all', 'cant', 'while', 're', 'much', 'last', 'toward', 'front', 'former', 'sincere', 'whereas', 'else', 'thus', 'that', 'himself', 'up', 'where', 'once', 'call', 'formerly', 'both', 'ie', 'my', 'everything', 'other', 'already', 'get', 'who', 'thereby', 'besides', 'about', 'hereafter', 'it', 'around', 'mine', 'anything', 'along', 'yourselves', 'been', 'even', 'therefore', 'found', 'others', 'out', 'together', 'the', 'yours', 'same', 'its', 'latterly', 'wherever', 'must', 'become', 'had', 'latter', 'whereafter', 'why', 'empty', 'any', 'eight', 'amoungst', 'fire', 'have', 'describe', 'bottom', 'hers', 'due', 'whose', 'then', 'so', 'less', 'further', 'themselves', 'none', 'might', 'ourselves', 'either', 'being', 'fifteen', 'first', 'moreover', 'own', 'nine', 'herself', 'whither', 'full', 'nothing', 'somehow', 'too', 'de', 'beyond', 'couldnt', 'or', 'find', 'some', 'still', 'may', 'whereupon', 'becoming', 'least', 'inc', 'below', 'how', 'one', 'twelve', 'at', 'itself', 'noone', 'made', 'our', 'name', 'someone', 'here', 'will', 'top', 'back', 'few', 'yet', 'cry', 'mostly', 'nowhere', 'next', 'serious', 'detail', 'would', 'most', 'show', 'which', 'anywhere', 'as', 'herein', 'move', 'upon', 'seemed', 'to', 'behind', 'whether', 'before', 'a', 'is', 'sometimes', 'be', 'very', 'neither', 'throughout', 'take', 'you', 'seeming', 'became', 'everyone', 'meanwhile', 'seem', 'nobody', 'through', 'everywhere', 'fill', 'after', 'hence', 'into', 'thereupon', 'their', 'onto', 'between', 'myself', 'un', 'with', 'nor', 'whence', 'via', 'cannot', 'part', 'however', 'interest', 'we', 'sixty', 'mill', 'whereby', 'seems', 'never', 'wherein', 'three', 'con', 'ten', 'see', 'should', 'indeed', 'several', 'an', 'thru', 'thereafter', 'yourself', 'he', 'although', 'give', 'twenty', 'eg', 'since', 'because', 'somewhere', 'if', 'can', 'forty', 'she', 'us', 'afterwards', 'go', 'something', 'of', 'only', 'nevertheless', 'system', 'when', 'his', 'whatever', 'per', 'until', 'two', 'me', 'every', 'ltd', 'from', 'five', 'they', 'otherwise', 'by', 'whole', 'enough', 'among', 'fifty', 'whenever', 'hereupon', 'amount', 'than', 'has', 'whom', 'but', 'well', 'this', 'him', 'always', 'elsewhere'}\n"
     ]
    }
   ],
   "source": [
    "from sklearn.feature_extraction.text import ENGLISH_STOP_WORDS\n",
    "sklearn_stopwords = set(ENGLISH_STOP_WORDS)\n",
    "print(sklearn_stopwords)"
   ]
  },
  {
   "cell_type": "code",
   "execution_count": 23,
   "id": "efda49ce",
   "metadata": {},
   "outputs": [
    {
     "data": {
      "text/plain": [
       "318"
      ]
     },
     "execution_count": 23,
     "metadata": {},
     "output_type": "execute_result"
    }
   ],
   "source": [
    "len(sklearn_stopwords)"
   ]
  },
  {
   "cell_type": "code",
   "execution_count": 24,
   "id": "e2073d05",
   "metadata": {},
   "outputs": [
    {
     "name": "stdout",
     "output_type": "stream",
     "text": [
      "{'so', 'further', 'themselves', 'for', 'ourselves', 'your', 'being', 'such', 'was', 'own', 'herself', 'too', 'not', 'those', 'in', 'on', 'against', 'or', 'some', 'there', 'down', 'below', 'how', 'no', 'at', 'itself', 'each', 'our', 'her', 'i', 'during', 'above', 'under', 'ours', 'them', 'here', 'will', 'few', 'and', 'over', 'now', 'most', 'off', 'do', 'which', 'as', 'to', 'before', 'am', 'is', 'a', 'be', 'very', 'these', 'are', 'were', 'more', 'what', 'you', 'all', 're', 'through', 'while', 'after', 'into', 'their', 'between', 'myself', 'with', 'nor', 'that', 'himself', 'up', 'we', 'where', 'once', 'both', 'my', 'should', 'other', 'an', 'yourself', 'who', 'he', 'it', 'about', 'because', 'yourselves', 'been', 'if', 'can', 'she', 'out', 'of', 'only', 'the', 'yours', 'same', 'its', 'when', 'his', 'until', 'me', 'had', 'from', 'they', 'by', 'why', 'any', 'whom', 'has', 'than', 'have', 'but', 'this', 'hers', 'him', 'then', 'again'}\n"
     ]
    }
   ],
   "source": [
    "# Find the common stopwords from NLTK & sklearn\n",
    "print(nltk_stopwords.intersection(sklearn_stopwords))"
   ]
  },
  {
   "cell_type": "code",
   "execution_count": 25,
   "id": "53755cfd",
   "metadata": {},
   "outputs": [
    {
     "data": {
      "text/plain": [
       "119"
      ]
     },
     "execution_count": 25,
     "metadata": {},
     "output_type": "execute_result"
    }
   ],
   "source": [
    "len(nltk_stopwords.intersection(sklearn_stopwords))"
   ]
  },
  {
   "cell_type": "code",
   "execution_count": 26,
   "id": "76d59440",
   "metadata": {},
   "outputs": [],
   "source": [
    "# Combining the stopwords from sklearn & NLTK\n",
    "combined_stopwords = nltk_stopwords.union(sklearn_stopwords)"
   ]
  },
  {
   "cell_type": "code",
   "execution_count": 27,
   "id": "b5b73f4d",
   "metadata": {},
   "outputs": [
    {
     "data": {
      "text/plain": [
       "378"
      ]
     },
     "execution_count": 27,
     "metadata": {},
     "output_type": "execute_result"
    }
   ],
   "source": [
    "len(combined_stopwords)"
   ]
  },
  {
   "cell_type": "code",
   "execution_count": 28,
   "id": "8175e711",
   "metadata": {},
   "outputs": [],
   "source": [
    "# Text Normalization: Stemming or Lemmatization (prefer)\n",
    "from nltk.stem import WordNetLemmatizer\n",
    "lemmatizer = WordNetLemmatizer()"
   ]
  },
  {
   "cell_type": "code",
   "execution_count": 29,
   "id": "96dc91f9",
   "metadata": {},
   "outputs": [
    {
     "data": {
      "text/plain": [
       "['Gain',\n",
       " 'Followers',\n",
       " 'RT',\n",
       " 'This',\n",
       " 'MUST',\n",
       " 'FOLLOW',\n",
       " 'ME',\n",
       " 'I',\n",
       " 'FOLLOW',\n",
       " 'BACK',\n",
       " 'Follow',\n",
       " 'everyone',\n",
       " 'who',\n",
       " 'rts',\n",
       " 'Gain',\n",
       " '#iphone',\n",
       " '#sougofollow',\n",
       " '#ff',\n",
       " 'i7si']"
      ]
     },
     "execution_count": 29,
     "metadata": {},
     "output_type": "execute_result"
    }
   ],
   "source": [
    "data['tweet'][63].split()"
   ]
  },
  {
   "cell_type": "code",
   "execution_count": 30,
   "id": "18d49ba7",
   "metadata": {},
   "outputs": [
    {
     "data": {
      "text/plain": [
       "'gain follower rt this must follow me i follow back follow everyone who rts gain #iphone #sougofollow #ff i7si '"
      ]
     },
     "execution_count": 30,
     "metadata": {},
     "output_type": "execute_result"
    }
   ],
   "source": [
    "new_sent = ''\n",
    "for token in data['tweet'][63].split():\n",
    "    new_sent = new_sent + lemmatizer.lemmatize(token.lower()) + ' '\n",
    "\n",
    "new_sent    "
   ]
  },
  {
   "cell_type": "code",
   "execution_count": 31,
   "id": "1eae0666",
   "metadata": {},
   "outputs": [],
   "source": [
    "# !pip install contractions"
   ]
  },
  {
   "cell_type": "code",
   "execution_count": null,
   "id": "0059df2b",
   "metadata": {},
   "outputs": [],
   "source": []
  },
  {
   "cell_type": "code",
   "execution_count": 32,
   "id": "555478fe",
   "metadata": {},
   "outputs": [
    {
     "data": {
      "text/plain": [
       "\"It's time for new wallpapers #phone #wallpapers #wall #screen #galaxy #samsung #app … https://www.instagram.com/p/BcsKTNNn51c/\""
      ]
     },
     "execution_count": 32,
     "metadata": {},
     "output_type": "execute_result"
    }
   ],
   "source": [
    "import contractions\n",
    "data['tweet'][24]"
   ]
  },
  {
   "cell_type": "code",
   "execution_count": 33,
   "id": "a09536dd",
   "metadata": {},
   "outputs": [
    {
     "data": {
      "text/plain": [
       "'It is time for new wallpapers #phone #wallpapers #wall #screen #galaxy #samsung #app … https://www.instagram.com/p/BcsKTNNn51c/'"
      ]
     },
     "execution_count": 33,
     "metadata": {},
     "output_type": "execute_result"
    }
   ],
   "source": [
    "contractions.fix(data['tweet'][24])"
   ]
  },
  {
   "cell_type": "markdown",
   "id": "b03fa1b2",
   "metadata": {},
   "source": [
    "# Define the Cleaner Function"
   ]
  },
  {
   "cell_type": "code",
   "execution_count": 35,
   "id": "66506788",
   "metadata": {},
   "outputs": [],
   "source": [
    "def tweet_cleaner_without_stopwords(text):\n",
    "    new_text = re.sub(r\"'s\\b\", \" is\", text)\n",
    "    new_text = re.sub(\"#\", \"\", new_text)\n",
    "    new_text = re.sub(\"@[A-Za-z0-9]+\", \"\", new_text)\n",
    "    new_text = re.sub(r\"http\\S+\", \"\", new_text)\n",
    "    new_text = contractions.fix(new_text)    \n",
    "    new_text = re.sub(r\"[^a-zA-Z]\", \" \", new_text)    \n",
    "    new_text = new_text.lower().strip()\n",
    "    \n",
    "    cleaned_text = ''\n",
    "    for token in new_text.split():\n",
    "        cleaned_text = cleaned_text + lemmatizer.lemmatize(token) + ' '\n",
    "    \n",
    "    return cleaned_text"
   ]
  },
  {
   "cell_type": "code",
   "execution_count": null,
   "id": "cf31a305",
   "metadata": {},
   "outputs": [],
   "source": [
    "cleaned_tweets = []  # list of cleaned tweets\n",
    "for twt in data['tweet']:\n",
    "    cleaned_tweets.append(tweet_cleaner_without_stopwords(twt))"
   ]
  },
  {
   "cell_type": "code",
   "execution_count": 37,
   "id": "8e1c3761",
   "metadata": {},
   "outputs": [
    {
     "data": {
      "text/plain": [
       "['fingerprint pregnancy test android apps beautiful cute health igers iphoneonly iphonesia iphone ',\n",
       " 'finally a transparant silicon case thanks to my uncle yay sony xperia s sonyexperias ',\n",
       " 'we love this would you go talk makememories unplug relax iphone smartphone wifi connect ',\n",
       " 'i am wired i know i am george i wa made that way iphone cute daventry home ',\n",
       " 'what amazing service apple will not even talk to me about a question i have unless i pay them for their stupid support ']"
      ]
     },
     "execution_count": 37,
     "metadata": {},
     "output_type": "execute_result"
    }
   ],
   "source": [
    "cleaned_tweets[:5]    "
   ]
  },
  {
   "cell_type": "code",
   "execution_count": 38,
   "id": "ba352027",
   "metadata": {},
   "outputs": [
    {
     "data": {
      "text/plain": [
       "'it is time for new wallpaper phone wallpaper wall screen galaxy samsung app '"
      ]
     },
     "execution_count": 38,
     "metadata": {},
     "output_type": "execute_result"
    }
   ],
   "source": [
    "cleaned_tweets[24]"
   ]
  },
  {
   "cell_type": "code",
   "execution_count": 39,
   "id": "fde70aa2",
   "metadata": {},
   "outputs": [
    {
     "data": {
      "text/plain": [
       "'#Apple Bunch if Crooks Refused to repair/replace my beats wireless. Problem rubber on mic coming off microphones stopped working. Said warranty was void because ear piece looked chewed. Bullshit. I don’t have any animals and I would chew on anything I put in my ear. pic.twitter.com/GfgvquEpuC'"
      ]
     },
     "execution_count": 39,
     "metadata": {},
     "output_type": "execute_result"
    }
   ],
   "source": [
    "data['tweet'][1500]"
   ]
  },
  {
   "cell_type": "code",
   "execution_count": 42,
   "id": "7e833b1f",
   "metadata": {},
   "outputs": [
    {
     "data": {
      "text/plain": [
       "['#Apple',\n",
       " 'Bunch',\n",
       " 'if',\n",
       " 'Crooks',\n",
       " 'Refused',\n",
       " 'to',\n",
       " 'repair/replace',\n",
       " 'my',\n",
       " 'beats',\n",
       " 'wireless.',\n",
       " 'Problem',\n",
       " 'rubber',\n",
       " 'on',\n",
       " 'mic',\n",
       " 'coming',\n",
       " 'off',\n",
       " 'microphones',\n",
       " 'stopped',\n",
       " 'working.',\n",
       " 'Said',\n",
       " 'warranty',\n",
       " 'was',\n",
       " 'void',\n",
       " 'because',\n",
       " 'ear',\n",
       " 'piece',\n",
       " 'looked',\n",
       " 'chewed.',\n",
       " 'Bullshit.',\n",
       " 'I',\n",
       " 'don’t',\n",
       " 'have',\n",
       " 'any',\n",
       " 'animals',\n",
       " 'and',\n",
       " 'I',\n",
       " 'would',\n",
       " 'chew',\n",
       " 'on',\n",
       " 'anything',\n",
       " 'I',\n",
       " 'put',\n",
       " 'in',\n",
       " 'my',\n",
       " 'ear.',\n",
       " 'pic.twitter.com/GfgvquEpuC']"
      ]
     },
     "execution_count": 42,
     "metadata": {},
     "output_type": "execute_result"
    }
   ],
   "source": [
    "data['tweet'][1500].split()"
   ]
  },
  {
   "cell_type": "code",
   "execution_count": 40,
   "id": "43c0ad98",
   "metadata": {},
   "outputs": [
    {
     "data": {
      "text/plain": [
       "'apple bunch if crook refused to repair replace my beat wireless problem rubber on mic coming off microphone stopped working said warranty wa void because ear piece looked chewed bullshit i do not have any animal and i would chew on anything i put in my ear pic twitter com gfgvquepuc '"
      ]
     },
     "execution_count": 40,
     "metadata": {},
     "output_type": "execute_result"
    }
   ],
   "source": [
    "cleaned_tweets[1500]"
   ]
  },
  {
   "cell_type": "code",
   "execution_count": 40,
   "id": "73c69c58",
   "metadata": {},
   "outputs": [],
   "source": [
    "# tweet['tweet'].apply(lambda x: tweet_cleaner(x))"
   ]
  },
  {
   "cell_type": "code",
   "execution_count": 41,
   "id": "cd3e2f95",
   "metadata": {},
   "outputs": [
    {
     "data": {
      "text/html": [
       "<div>\n",
       "<style scoped>\n",
       "    .dataframe tbody tr th:only-of-type {\n",
       "        vertical-align: middle;\n",
       "    }\n",
       "\n",
       "    .dataframe tbody tr th {\n",
       "        vertical-align: top;\n",
       "    }\n",
       "\n",
       "    .dataframe thead th {\n",
       "        text-align: right;\n",
       "    }\n",
       "</style>\n",
       "<table border=\"1\" class=\"dataframe\">\n",
       "  <thead>\n",
       "    <tr style=\"text-align: right;\">\n",
       "      <th></th>\n",
       "      <th>label</th>\n",
       "      <th>tweet</th>\n",
       "      <th>cleaned_tweets_w/o_SW</th>\n",
       "    </tr>\n",
       "  </thead>\n",
       "  <tbody>\n",
       "    <tr>\n",
       "      <th>0</th>\n",
       "      <td>0</td>\n",
       "      <td>#fingerprint #Pregnancy Test https://goo.gl/h1MfQV #android #apps #beautiful #cute #health #igers #iphoneonly #iphonesia #iphone</td>\n",
       "      <td>fingerprint pregnancy test android apps beautiful cute health igers iphoneonly iphonesia iphone</td>\n",
       "    </tr>\n",
       "    <tr>\n",
       "      <th>1</th>\n",
       "      <td>0</td>\n",
       "      <td>Finally a transparant silicon case ^^ Thanks to my uncle :) #yay #Sony #Xperia #S #sonyexperias… http://instagram.com/p/YGEt5JC6JM/</td>\n",
       "      <td>finally a transparant silicon case thanks to my uncle yay sony xperia s sonyexperias</td>\n",
       "    </tr>\n",
       "    <tr>\n",
       "      <th>2</th>\n",
       "      <td>0</td>\n",
       "      <td>We love this! Would you go? #talk #makememories #unplug #relax #iphone #smartphone #wifi #connect... http://fb.me/6N3LsUpCu</td>\n",
       "      <td>we love this would you go talk makememories unplug relax iphone smartphone wifi connect</td>\n",
       "    </tr>\n",
       "    <tr>\n",
       "      <th>3</th>\n",
       "      <td>0</td>\n",
       "      <td>I'm wired I know I'm George I was made that way ;) #iphone #cute #daventry #home http://instagr.am/p/Li_5_ujS4k/</td>\n",
       "      <td>i am wired i know i am george i wa made that way iphone cute daventry home</td>\n",
       "    </tr>\n",
       "    <tr>\n",
       "      <th>4</th>\n",
       "      <td>1</td>\n",
       "      <td>What amazing service! Apple won't even talk to me about a question I have unless I pay them $19.95 for their stupid support!</td>\n",
       "      <td>what amazing service apple will not even talk to me about a question i have unless i pay them for their stupid support</td>\n",
       "    </tr>\n",
       "  </tbody>\n",
       "</table>\n",
       "</div>"
      ],
      "text/plain": [
       "   label  \\\n",
       "0      0   \n",
       "1      0   \n",
       "2      0   \n",
       "3      0   \n",
       "4      1   \n",
       "\n",
       "                                                                                                                                 tweet  \\\n",
       "0     #fingerprint #Pregnancy Test https://goo.gl/h1MfQV #android #apps #beautiful #cute #health #igers #iphoneonly #iphonesia #iphone   \n",
       "1  Finally a transparant silicon case ^^ Thanks to my uncle :) #yay #Sony #Xperia #S #sonyexperias… http://instagram.com/p/YGEt5JC6JM/   \n",
       "2          We love this! Would you go? #talk #makememories #unplug #relax #iphone #smartphone #wifi #connect... http://fb.me/6N3LsUpCu   \n",
       "3                     I'm wired I know I'm George I was made that way ;) #iphone #cute #daventry #home http://instagr.am/p/Li_5_ujS4k/   \n",
       "4         What amazing service! Apple won't even talk to me about a question I have unless I pay them $19.95 for their stupid support!   \n",
       "\n",
       "                                                                                                     cleaned_tweets_w/o_SW  \n",
       "0                         fingerprint pregnancy test android apps beautiful cute health igers iphoneonly iphonesia iphone   \n",
       "1                                    finally a transparant silicon case thanks to my uncle yay sony xperia s sonyexperias   \n",
       "2                                 we love this would you go talk makememories unplug relax iphone smartphone wifi connect   \n",
       "3                                              i am wired i know i am george i wa made that way iphone cute daventry home   \n",
       "4  what amazing service apple will not even talk to me about a question i have unless i pay them for their stupid support   "
      ]
     },
     "execution_count": 41,
     "metadata": {},
     "output_type": "execute_result"
    }
   ],
   "source": [
    "data['cleaned_tweets_w/o_SW'] = cleaned_tweets\n",
    "data.head()"
   ]
  },
  {
   "cell_type": "markdown",
   "id": "d899e3f7",
   "metadata": {},
   "source": [
    "# Data Visualization\n",
    "\n",
    "Plot the top 25 most common words in this tweets dataset"
   ]
  },
  {
   "cell_type": "code",
   "execution_count": 43,
   "id": "3dfed997",
   "metadata": {},
   "outputs": [
    {
     "name": "stdout",
     "output_type": "stream",
     "text": [
      "['#fingerprint', '#Pregnancy', 'Test', 'https://goo.gl/h1MfQV', '#android', '#apps', '#beautiful', '#cute', '#health', '#igers', '#iphoneonly', '#iphonesia', '#iphone', 'Finally', 'a', 'transparant', 'silicon', 'case', '^^', 'Thanks', 'to', 'my', 'uncle', ':)', '#yay', '#Sony', '#Xperia', '#S', '#sonyexperias…', 'http://instagram.com/p/YGEt5JC6JM/', 'We', 'love', 'this!', 'Would', 'you', 'go?', '#talk', '#makememories', '#unplug', '#relax', '#iphone', '#smartphone', '#wifi', '#connect...', 'http://fb.me/6N3LsUpCu', \"I'm\", 'wired', 'I', 'know', \"I'm\"]\n"
     ]
    },
    {
     "data": {
      "text/plain": [
       "34348"
      ]
     },
     "execution_count": 43,
     "metadata": {},
     "output_type": "execute_result"
    }
   ],
   "source": [
    "# Write a code to collect all the words from all the tweets into a single list\n",
    "all_words = []\n",
    "for t in data['tweet']:\n",
    "    all_words.extend(t.split())\n",
    "\n",
    "print(all_words[:50])\n",
    "len(set(all_words)) # this is the number of unique words in the list"
   ]
  },
  {
   "cell_type": "code",
   "execution_count": 44,
   "id": "6ac2ff9f",
   "metadata": {},
   "outputs": [],
   "source": [
    "import matplotlib.pyplot as plt"
   ]
  },
  {
   "cell_type": "code",
   "execution_count": 45,
   "id": "0e87c808",
   "metadata": {},
   "outputs": [
    {
     "data": {
      "image/png": "[encoded data removed]",
      "text/plain": [
       "<Figure size 1200x500 with 1 Axes>"
      ]
     },
     "metadata": {},
     "output_type": "display_data"
    }
   ],
   "source": [
    "# Frequency Distribution\n",
    "freq_dist = nltk.FreqDist(all_words)\n",
    "\n",
    "plt.figure(figsize=(12,5))\n",
    "plt.title('Top 25 most common words')\n",
    "plt.xticks(fontsize=15)\n",
    "\n",
    "freq_dist.plot(25, cumulative=False)\n",
    "\n",
    "plt.show()\n"
   ]
  },
  {
   "cell_type": "code",
   "execution_count": null,
   "id": "1b1b7070",
   "metadata": {},
   "outputs": [],
   "source": []
  },
  {
   "cell_type": "markdown",
   "id": "c022a7da",
   "metadata": {},
   "source": [
    "## Plot for Cleaned Tweets"
   ]
  },
  {
   "cell_type": "code",
   "execution_count": 46,
   "id": "c599ee64",
   "metadata": {},
   "outputs": [
    {
     "name": "stdout",
     "output_type": "stream",
     "text": [
      "['fingerprint', 'pregnancy', 'test', 'android', 'apps', 'beautiful', 'cute', 'health', 'igers', 'iphoneonly', 'iphonesia', 'iphone', 'finally', 'a', 'transparant', 'silicon', 'case', 'thanks', 'to', 'my', 'uncle', 'yay', 'sony', 'xperia', 's', 'sonyexperias', 'we', 'love', 'this', 'would', 'you', 'go', 'talk', 'makememories', 'unplug', 'relax', 'iphone', 'smartphone', 'wifi', 'connect', 'i', 'am', 'wired', 'i', 'know', 'i', 'am', 'george', 'i', 'wa']\n"
     ]
    }
   ],
   "source": [
    "# Write the code for plotting the cleaned tweets\n",
    "all_words = []\n",
    "for t in data['cleaned_tweets_w/o_SW']:\n",
    "    all_words.extend(t.split())\n",
    "\n",
    "print(all_words[:50])"
   ]
  },
  {
   "cell_type": "code",
   "execution_count": 47,
   "id": "6a3b416c",
   "metadata": {},
   "outputs": [
    {
     "data": {
      "text/plain": [
       "15981"
      ]
     },
     "execution_count": 47,
     "metadata": {},
     "output_type": "execute_result"
    }
   ],
   "source": [
    "len(set(all_words)) # this is the number of unique words in the list"
   ]
  },
  {
   "cell_type": "code",
   "execution_count": 49,
   "id": "55be3dd1",
   "metadata": {},
   "outputs": [
    {
     "data": {
      "image/png": "[encoded data removed]",
      "text/plain": [
       "<Figure size 1200x500 with 1 Axes>"
      ]
     },
     "metadata": {},
     "output_type": "display_data"
    }
   ],
   "source": [
    "# Frequency Distribution\n",
    "freq_dist = nltk.FreqDist(all_words)\n",
    "\n",
    "plt.figure(figsize=(12,5))\n",
    "plt.title('Top 25 most common words')\n",
    "plt.xticks(fontsize=15)\n",
    "\n",
    "freq_dist.plot(25, cumulative=False)\n",
    "\n",
    "plt.show()\n"
   ]
  },
  {
   "cell_type": "code",
   "execution_count": null,
   "id": "07c005d2",
   "metadata": {},
   "outputs": [],
   "source": []
  },
  {
   "cell_type": "code",
   "execution_count": null,
   "id": "75801e29",
   "metadata": {},
   "outputs": [],
   "source": []
  },
  {
   "cell_type": "markdown",
   "id": "357b1305",
   "metadata": {},
   "source": [
    "## After applying Stop words"
   ]
  },
  {
   "cell_type": "code",
   "execution_count": 49,
   "id": "818c0e58",
   "metadata": {},
   "outputs": [
    {
     "data": {
      "text/plain": [
       "set"
      ]
     },
     "execution_count": 49,
     "metadata": {},
     "output_type": "execute_result"
    }
   ],
   "source": [
    "type(combined_stopwords)"
   ]
  },
  {
   "cell_type": "code",
   "execution_count": 60,
   "id": "59b245e4",
   "metadata": {},
   "outputs": [],
   "source": [
    "def tweet_cleaner_with_stopwords(text):\n",
    "    new_text = re.sub(r\"'s\\b\", \" is\", text)\n",
    "    new_text = re.sub(\"#\", \"\", new_text)\n",
    "    new_text = re.sub(\"@[A-Za-z0-9]+\", \"\", new_text)\n",
    "    new_text = re.sub(r\"http\\S+\", \"\", new_text)\n",
    "    new_text = contractions.fix(new_text)    \n",
    "    new_text = re.sub(r\"[^a-zA-Z]\", \" \", new_text)    \n",
    "    new_text = new_text.lower().strip()\n",
    "    \n",
    "    new_text = [token for token in new_text.split() if token not in combined_stopwords]\n",
    "    \n",
    "    new_text = [token for token in new_text if len(token)>2]\n",
    "    \n",
    "    cleaned_text = ''\n",
    "    for token in new_text:\n",
    "        cleaned_text = cleaned_text + lemmatizer.lemmatize(token) + ' '\n",
    "    \n",
    "    return cleaned_text"
   ]
  },
  {
   "cell_type": "code",
   "execution_count": 61,
   "id": "f22fcafb",
   "metadata": {},
   "outputs": [
    {
     "name": "stdout",
     "output_type": "stream",
     "text": [
      "['fingerprint pregnancy test android apps beautiful cute health igers iphoneonly iphonesia iphone ', 'finally transparant silicon case thanks uncle yay sony xperia sonyexperias ', 'love talk makememories unplug relax iphone smartphone wifi connect ', 'wired know george way iphone cute daventry home ', 'amazing service apple talk question unless pay stupid support ', 'iphone software update fucked phone big time stupid iphones ', 'happy instapic instadaily sony xperia xperiaz ', 'new type charger cable bay amazon etsy new year rob cross toby young evemun mcmafia taylor spectre newyear starting recipe technology samsunggalaxys iphonex pic twitter com pjiwq wtc ', 'bout shopping listening music iphone justme music likeforlike followforfollow ', 'photo fun selfie pool water sony camera picoftheday sun instagood boy cute outdoor ']\n"
     ]
    }
   ],
   "source": [
    "cleaned_tweets = list(data['tweet'].apply(tweet_cleaner_with_stopwords))\n",
    "print(cleaned_tweets[:10])"
   ]
  },
  {
   "cell_type": "code",
   "execution_count": 62,
   "id": "2cef4574",
   "metadata": {},
   "outputs": [
    {
     "data": {
      "text/plain": [
       "Index(['label', 'tweet', 'cleaned_tweets_w/o_SW', 'cleaned_tweets_with_SW'], dtype='object')"
      ]
     },
     "execution_count": 62,
     "metadata": {},
     "output_type": "execute_result"
    }
   ],
   "source": [
    "data.columns"
   ]
  },
  {
   "cell_type": "code",
   "execution_count": 63,
   "id": "03a8c1bc",
   "metadata": {},
   "outputs": [
    {
     "data": {
      "text/html": [
       "<div>\n",
       "<style scoped>\n",
       "    .dataframe tbody tr th:only-of-type {\n",
       "        vertical-align: middle;\n",
       "    }\n",
       "\n",
       "    .dataframe tbody tr th {\n",
       "        vertical-align: top;\n",
       "    }\n",
       "\n",
       "    .dataframe thead th {\n",
       "        text-align: right;\n",
       "    }\n",
       "</style>\n",
       "<table border=\"1\" class=\"dataframe\">\n",
       "  <thead>\n",
       "    <tr style=\"text-align: right;\">\n",
       "      <th></th>\n",
       "      <th>label</th>\n",
       "      <th>tweet</th>\n",
       "      <th>cleaned_tweets_w/o_SW</th>\n",
       "      <th>cleaned_tweets_with_SW</th>\n",
       "    </tr>\n",
       "  </thead>\n",
       "  <tbody>\n",
       "    <tr>\n",
       "      <th>0</th>\n",
       "      <td>0</td>\n",
       "      <td>#fingerprint #Pregnancy Test https://goo.gl/h1MfQV #android #apps #beautiful #cute #health #igers #iphoneonly #iphonesia #iphone</td>\n",
       "      <td>fingerprint pregnancy test android apps beautiful cute health igers iphoneonly iphonesia iphone</td>\n",
       "      <td>fingerprint pregnancy test android apps beautiful cute health igers iphoneonly iphonesia iphone</td>\n",
       "    </tr>\n",
       "    <tr>\n",
       "      <th>1</th>\n",
       "      <td>0</td>\n",
       "      <td>Finally a transparant silicon case ^^ Thanks to my uncle :) #yay #Sony #Xperia #S #sonyexperias… http://instagram.com/p/YGEt5JC6JM/</td>\n",
       "      <td>finally a transparant silicon case thanks to my uncle yay sony xperia s sonyexperias</td>\n",
       "      <td>finally transparant silicon case thanks uncle yay sony xperia sonyexperias</td>\n",
       "    </tr>\n",
       "    <tr>\n",
       "      <th>2</th>\n",
       "      <td>0</td>\n",
       "      <td>We love this! Would you go? #talk #makememories #unplug #relax #iphone #smartphone #wifi #connect... http://fb.me/6N3LsUpCu</td>\n",
       "      <td>we love this would you go talk makememories unplug relax iphone smartphone wifi connect</td>\n",
       "      <td>love talk makememories unplug relax iphone smartphone wifi connect</td>\n",
       "    </tr>\n",
       "    <tr>\n",
       "      <th>3</th>\n",
       "      <td>0</td>\n",
       "      <td>I'm wired I know I'm George I was made that way ;) #iphone #cute #daventry #home http://instagr.am/p/Li_5_ujS4k/</td>\n",
       "      <td>i am wired i know i am george i wa made that way iphone cute daventry home</td>\n",
       "      <td>wired know george way iphone cute daventry home</td>\n",
       "    </tr>\n",
       "    <tr>\n",
       "      <th>4</th>\n",
       "      <td>1</td>\n",
       "      <td>What amazing service! Apple won't even talk to me about a question I have unless I pay them $19.95 for their stupid support!</td>\n",
       "      <td>what amazing service apple will not even talk to me about a question i have unless i pay them for their stupid support</td>\n",
       "      <td>amazing service apple talk question unless pay stupid support</td>\n",
       "    </tr>\n",
       "  </tbody>\n",
       "</table>\n",
       "</div>"
      ],
      "text/plain": [
       "   label  \\\n",
       "0      0   \n",
       "1      0   \n",
       "2      0   \n",
       "3      0   \n",
       "4      1   \n",
       "\n",
       "                                                                                                                                 tweet  \\\n",
       "0     #fingerprint #Pregnancy Test https://goo.gl/h1MfQV #android #apps #beautiful #cute #health #igers #iphoneonly #iphonesia #iphone   \n",
       "1  Finally a transparant silicon case ^^ Thanks to my uncle :) #yay #Sony #Xperia #S #sonyexperias… http://instagram.com/p/YGEt5JC6JM/   \n",
       "2          We love this! Would you go? #talk #makememories #unplug #relax #iphone #smartphone #wifi #connect... http://fb.me/6N3LsUpCu   \n",
       "3                     I'm wired I know I'm George I was made that way ;) #iphone #cute #daventry #home http://instagr.am/p/Li_5_ujS4k/   \n",
       "4         What amazing service! Apple won't even talk to me about a question I have unless I pay them $19.95 for their stupid support!   \n",
       "\n",
       "                                                                                                     cleaned_tweets_w/o_SW  \\\n",
       "0                         fingerprint pregnancy test android apps beautiful cute health igers iphoneonly iphonesia iphone    \n",
       "1                                    finally a transparant silicon case thanks to my uncle yay sony xperia s sonyexperias    \n",
       "2                                 we love this would you go talk makememories unplug relax iphone smartphone wifi connect    \n",
       "3                                              i am wired i know i am george i wa made that way iphone cute daventry home    \n",
       "4  what amazing service apple will not even talk to me about a question i have unless i pay them for their stupid support    \n",
       "\n",
       "                                                                             cleaned_tweets_with_SW  \n",
       "0  fingerprint pregnancy test android apps beautiful cute health igers iphoneonly iphonesia iphone   \n",
       "1                       finally transparant silicon case thanks uncle yay sony xperia sonyexperias   \n",
       "2                               love talk makememories unplug relax iphone smartphone wifi connect   \n",
       "3                                                  wired know george way iphone cute daventry home   \n",
       "4                                    amazing service apple talk question unless pay stupid support   "
      ]
     },
     "execution_count": 63,
     "metadata": {},
     "output_type": "execute_result"
    }
   ],
   "source": [
    "data['cleaned_tweets_with_SW'] = cleaned_tweets\n",
    "data.head()"
   ]
  },
  {
   "cell_type": "code",
   "execution_count": 64,
   "id": "385b666a",
   "metadata": {},
   "outputs": [
    {
     "name": "stdout",
     "output_type": "stream",
     "text": [
      "['fingerprint', 'pregnancy', 'test', 'android', 'apps', 'beautiful', 'cute', 'health', 'igers', 'iphoneonly', 'iphonesia', 'iphone', 'finally', 'transparant', 'silicon', 'case', 'thanks', 'uncle', 'yay', 'sony', 'xperia', 'sonyexperias', 'love', 'talk', 'makememories', 'unplug', 'relax', 'iphone', 'smartphone', 'wifi', 'connect', 'wired', 'know', 'george', 'way', 'iphone', 'cute', 'daventry', 'home', 'amazing', 'service', 'apple', 'talk', 'question', 'unless', 'pay', 'stupid', 'support', 'iphone', 'software']\n"
     ]
    },
    {
     "data": {
      "image/png": "[encoded data removed]",
      "text/plain": [
       "<Figure size 1200x500 with 1 Axes>"
      ]
     },
     "metadata": {},
     "output_type": "display_data"
    }
   ],
   "source": [
    "all_words = []\n",
    "for t in data['cleaned_tweets_with_SW']:\n",
    "    all_words.extend(t.split())\n",
    "\n",
    "print(all_words[:50])\n",
    "\n",
    "# Frequency Distribution\n",
    "freq_dist = nltk.FreqDist(all_words)\n",
    "\n",
    "plt.figure(figsize=(12,5))\n",
    "plt.title('Top 25 most common words')\n",
    "plt.xticks(fontsize=15)\n",
    "\n",
    "freq_dist.plot(25, cumulative=False)\n",
    "\n",
    "plt.show()"
   ]
  },
  {
   "cell_type": "code",
   "execution_count": 65,
   "id": "30589750",
   "metadata": {},
   "outputs": [],
   "source": [
    "domain_stopwords = ['phone', 'mobile', 'twitter', 'rt', 'com', 'follow']\n",
    "final_stopwords = domain_stopwords + list(combined_stopwords)"
   ]
  },
  {
   "cell_type": "code",
   "execution_count": 66,
   "id": "3ac35b33",
   "metadata": {},
   "outputs": [],
   "source": [
    "# HW: re-do the cleaner function to include final_stopwords\n",
    "# and re-plot and see what more come up!"
   ]
  },
  {
   "cell_type": "code",
   "execution_count": 68,
   "id": "2c7e7729",
   "metadata": {},
   "outputs": [
    {
     "data": {
      "text/html": [
       "<div>\n",
       "<style scoped>\n",
       "    .dataframe tbody tr th:only-of-type {\n",
       "        vertical-align: middle;\n",
       "    }\n",
       "\n",
       "    .dataframe tbody tr th {\n",
       "        vertical-align: top;\n",
       "    }\n",
       "\n",
       "    .dataframe thead th {\n",
       "        text-align: right;\n",
       "    }\n",
       "</style>\n",
       "<table border=\"1\" class=\"dataframe\">\n",
       "  <thead>\n",
       "    <tr style=\"text-align: right;\">\n",
       "      <th></th>\n",
       "      <th>label</th>\n",
       "      <th>tweet</th>\n",
       "      <th>cleaned_tweets_w/o_SW</th>\n",
       "      <th>cleaned_tweets_with_SW</th>\n",
       "    </tr>\n",
       "  </thead>\n",
       "  <tbody>\n",
       "    <tr>\n",
       "      <th>0</th>\n",
       "      <td>0</td>\n",
       "      <td>#fingerprint #Pregnancy Test https://goo.gl/h1MfQV #android #apps #beautiful #cute #health #igers #iphoneonly #iphonesia #iphone</td>\n",
       "      <td>fingerprint pregnancy test android apps beautiful cute health igers iphoneonly iphonesia iphone</td>\n",
       "      <td>fingerprint pregnancy test android apps beautiful cute health igers iphoneonly iphonesia iphone</td>\n",
       "    </tr>\n",
       "    <tr>\n",
       "      <th>1</th>\n",
       "      <td>0</td>\n",
       "      <td>Finally a transparant silicon case ^^ Thanks to my uncle :) #yay #Sony #Xperia #S #sonyexperias… http://instagram.com/p/YGEt5JC6JM/</td>\n",
       "      <td>finally a transparant silicon case thanks to my uncle yay sony xperia s sonyexperias</td>\n",
       "      <td>finally transparant silicon case thanks uncle yay sony xperia sonyexperias</td>\n",
       "    </tr>\n",
       "    <tr>\n",
       "      <th>2</th>\n",
       "      <td>0</td>\n",
       "      <td>We love this! Would you go? #talk #makememories #unplug #relax #iphone #smartphone #wifi #connect... http://fb.me/6N3LsUpCu</td>\n",
       "      <td>we love this would you go talk makememories unplug relax iphone smartphone wifi connect</td>\n",
       "      <td>love talk makememories unplug relax iphone smartphone wifi connect</td>\n",
       "    </tr>\n",
       "    <tr>\n",
       "      <th>3</th>\n",
       "      <td>0</td>\n",
       "      <td>I'm wired I know I'm George I was made that way ;) #iphone #cute #daventry #home http://instagr.am/p/Li_5_ujS4k/</td>\n",
       "      <td>i am wired i know i am george i wa made that way iphone cute daventry home</td>\n",
       "      <td>wired know george way iphone cute daventry home</td>\n",
       "    </tr>\n",
       "    <tr>\n",
       "      <th>4</th>\n",
       "      <td>1</td>\n",
       "      <td>What amazing service! Apple won't even talk to me about a question I have unless I pay them $19.95 for their stupid support!</td>\n",
       "      <td>what amazing service apple will not even talk to me about a question i have unless i pay them for their stupid support</td>\n",
       "      <td>amazing service apple talk question unless pay stupid support</td>\n",
       "    </tr>\n",
       "  </tbody>\n",
       "</table>\n",
       "</div>"
      ],
      "text/plain": [
       "   label  \\\n",
       "0      0   \n",
       "1      0   \n",
       "2      0   \n",
       "3      0   \n",
       "4      1   \n",
       "\n",
       "                                                                                                                                 tweet  \\\n",
       "0     #fingerprint #Pregnancy Test https://goo.gl/h1MfQV #android #apps #beautiful #cute #health #igers #iphoneonly #iphonesia #iphone   \n",
       "1  Finally a transparant silicon case ^^ Thanks to my uncle :) #yay #Sony #Xperia #S #sonyexperias… http://instagram.com/p/YGEt5JC6JM/   \n",
       "2          We love this! Would you go? #talk #makememories #unplug #relax #iphone #smartphone #wifi #connect... http://fb.me/6N3LsUpCu   \n",
       "3                     I'm wired I know I'm George I was made that way ;) #iphone #cute #daventry #home http://instagr.am/p/Li_5_ujS4k/   \n",
       "4         What amazing service! Apple won't even talk to me about a question I have unless I pay them $19.95 for their stupid support!   \n",
       "\n",
       "                                                                                                     cleaned_tweets_w/o_SW  \\\n",
       "0                         fingerprint pregnancy test android apps beautiful cute health igers iphoneonly iphonesia iphone    \n",
       "1                                    finally a transparant silicon case thanks to my uncle yay sony xperia s sonyexperias    \n",
       "2                                 we love this would you go talk makememories unplug relax iphone smartphone wifi connect    \n",
       "3                                              i am wired i know i am george i wa made that way iphone cute daventry home    \n",
       "4  what amazing service apple will not even talk to me about a question i have unless i pay them for their stupid support    \n",
       "\n",
       "                                                                             cleaned_tweets_with_SW  \n",
       "0  fingerprint pregnancy test android apps beautiful cute health igers iphoneonly iphonesia iphone   \n",
       "1                       finally transparant silicon case thanks uncle yay sony xperia sonyexperias   \n",
       "2                               love talk makememories unplug relax iphone smartphone wifi connect   \n",
       "3                                                  wired know george way iphone cute daventry home   \n",
       "4                                    amazing service apple talk question unless pay stupid support   "
      ]
     },
     "execution_count": 68,
     "metadata": {},
     "output_type": "execute_result"
    }
   ],
   "source": [
    "data.head()"
   ]
  },
  {
   "cell_type": "code",
   "execution_count": null,
   "id": "277c84dc",
   "metadata": {},
   "outputs": [],
   "source": []
  },
  {
   "cell_type": "markdown",
   "id": "0a49f440",
   "metadata": {},
   "source": [
    "# Bag of Words Model (Feature Extraction)\n",
    "\n",
    "- Countvectorizer\n",
    "- TF-IDF Vectorizer"
   ]
  },
  {
   "cell_type": "code",
   "execution_count": 69,
   "id": "71a7c339",
   "metadata": {},
   "outputs": [
    {
     "data": {
      "text/plain": [
       "(7920, 4)"
      ]
     },
     "execution_count": 69,
     "metadata": {},
     "output_type": "execute_result"
    }
   ],
   "source": [
    "data.shape"
   ]
  },
  {
   "cell_type": "code",
   "execution_count": 71,
   "id": "451e5731",
   "metadata": {},
   "outputs": [],
   "source": [
    "from sklearn.feature_extraction.text import CountVectorizer\n",
    "\n",
    "CV = CountVectorizer()\n",
    "CV_features = CV.fit_transform(data['cleaned_tweets_w/o_SW'])\n"
   ]
  },
  {
   "cell_type": "code",
   "execution_count": 72,
   "id": "d37cda36",
   "metadata": {},
   "outputs": [
    {
     "data": {
      "text/plain": [
       "(7920, 15955)"
      ]
     },
     "execution_count": 72,
     "metadata": {},
     "output_type": "execute_result"
    }
   ],
   "source": [
    "CV_features.shape"
   ]
  },
  {
   "cell_type": "code",
   "execution_count": 73,
   "id": "3634eca4",
   "metadata": {},
   "outputs": [
    {
     "data": {
      "text/plain": [
       "<1x15955 sparse matrix of type '<class 'numpy.int64'>'\n",
       "\twith 12 stored elements in Compressed Sparse Row format>"
      ]
     },
     "execution_count": 73,
     "metadata": {},
     "output_type": "execute_result"
    }
   ],
   "source": [
    "CV_features[0]"
   ]
  },
  {
   "cell_type": "code",
   "execution_count": 153,
   "id": "c63eb378",
   "metadata": {},
   "outputs": [],
   "source": [
    "# df = data.copy()\n",
    "# df.columns = ['label', 'cleaned_tweets_incl_SW', 'cleaned_tweets_SW_removed', 'cleaned_tweets_SW_removed_len_gt2']\n",
    "# df.to_pickle('cleaned_tweets.pkl')\n",
    "# df.to_csv('cleaned_tweets', index=False)"
   ]
  },
  {
   "cell_type": "code",
   "execution_count": 74,
   "id": "e8642b96",
   "metadata": {},
   "outputs": [
    {
     "data": {
      "text/plain": [
       "scipy.sparse.csr.csr_matrix"
      ]
     },
     "execution_count": 74,
     "metadata": {},
     "output_type": "execute_result"
    }
   ],
   "source": [
    "type(CV_features[0])  # each row is a compressed spare row "
   ]
  },
  {
   "cell_type": "code",
   "execution_count": 67,
   "id": "b6eea0d5",
   "metadata": {},
   "outputs": [
    {
     "data": {
      "text/plain": [
       "matrix([[0, 0, 0, ..., 0, 0, 0]], dtype=int64)"
      ]
     },
     "execution_count": 67,
     "metadata": {},
     "output_type": "execute_result"
    }
   ],
   "source": [
    "CV_features[0].todense()  # decompressing the CSR data"
   ]
  },
  {
   "cell_type": "code",
   "execution_count": 75,
   "id": "e3c75657",
   "metadata": {},
   "outputs": [
    {
     "data": {
      "text/html": [
       "<div>\n",
       "<style scoped>\n",
       "    .dataframe tbody tr th:only-of-type {\n",
       "        vertical-align: middle;\n",
       "    }\n",
       "\n",
       "    .dataframe tbody tr th {\n",
       "        vertical-align: top;\n",
       "    }\n",
       "\n",
       "    .dataframe thead th {\n",
       "        text-align: right;\n",
       "    }\n",
       "</style>\n",
       "<table border=\"1\" class=\"dataframe\">\n",
       "  <thead>\n",
       "    <tr style=\"text-align: right;\">\n",
       "      <th></th>\n",
       "      <th>0</th>\n",
       "      <th>1</th>\n",
       "      <th>2</th>\n",
       "      <th>3</th>\n",
       "      <th>4</th>\n",
       "      <th>5</th>\n",
       "      <th>6</th>\n",
       "      <th>7</th>\n",
       "      <th>8</th>\n",
       "      <th>9</th>\n",
       "      <th>...</th>\n",
       "      <th>15945</th>\n",
       "      <th>15946</th>\n",
       "      <th>15947</th>\n",
       "      <th>15948</th>\n",
       "      <th>15949</th>\n",
       "      <th>15950</th>\n",
       "      <th>15951</th>\n",
       "      <th>15952</th>\n",
       "      <th>15953</th>\n",
       "      <th>15954</th>\n",
       "    </tr>\n",
       "  </thead>\n",
       "  <tbody>\n",
       "    <tr>\n",
       "      <th>0</th>\n",
       "      <td>0</td>\n",
       "      <td>0</td>\n",
       "      <td>0</td>\n",
       "      <td>0</td>\n",
       "      <td>0</td>\n",
       "      <td>0</td>\n",
       "      <td>0</td>\n",
       "      <td>0</td>\n",
       "      <td>0</td>\n",
       "      <td>0</td>\n",
       "      <td>...</td>\n",
       "      <td>0</td>\n",
       "      <td>0</td>\n",
       "      <td>0</td>\n",
       "      <td>0</td>\n",
       "      <td>0</td>\n",
       "      <td>0</td>\n",
       "      <td>0</td>\n",
       "      <td>0</td>\n",
       "      <td>0</td>\n",
       "      <td>0</td>\n",
       "    </tr>\n",
       "    <tr>\n",
       "      <th>1</th>\n",
       "      <td>0</td>\n",
       "      <td>0</td>\n",
       "      <td>0</td>\n",
       "      <td>0</td>\n",
       "      <td>0</td>\n",
       "      <td>0</td>\n",
       "      <td>0</td>\n",
       "      <td>0</td>\n",
       "      <td>0</td>\n",
       "      <td>0</td>\n",
       "      <td>...</td>\n",
       "      <td>0</td>\n",
       "      <td>0</td>\n",
       "      <td>0</td>\n",
       "      <td>0</td>\n",
       "      <td>0</td>\n",
       "      <td>0</td>\n",
       "      <td>0</td>\n",
       "      <td>0</td>\n",
       "      <td>0</td>\n",
       "      <td>0</td>\n",
       "    </tr>\n",
       "    <tr>\n",
       "      <th>2</th>\n",
       "      <td>0</td>\n",
       "      <td>0</td>\n",
       "      <td>0</td>\n",
       "      <td>0</td>\n",
       "      <td>0</td>\n",
       "      <td>0</td>\n",
       "      <td>0</td>\n",
       "      <td>0</td>\n",
       "      <td>0</td>\n",
       "      <td>0</td>\n",
       "      <td>...</td>\n",
       "      <td>0</td>\n",
       "      <td>0</td>\n",
       "      <td>0</td>\n",
       "      <td>0</td>\n",
       "      <td>0</td>\n",
       "      <td>0</td>\n",
       "      <td>0</td>\n",
       "      <td>0</td>\n",
       "      <td>0</td>\n",
       "      <td>0</td>\n",
       "    </tr>\n",
       "    <tr>\n",
       "      <th>3</th>\n",
       "      <td>0</td>\n",
       "      <td>0</td>\n",
       "      <td>0</td>\n",
       "      <td>0</td>\n",
       "      <td>0</td>\n",
       "      <td>0</td>\n",
       "      <td>0</td>\n",
       "      <td>0</td>\n",
       "      <td>0</td>\n",
       "      <td>0</td>\n",
       "      <td>...</td>\n",
       "      <td>0</td>\n",
       "      <td>0</td>\n",
       "      <td>0</td>\n",
       "      <td>0</td>\n",
       "      <td>0</td>\n",
       "      <td>0</td>\n",
       "      <td>0</td>\n",
       "      <td>0</td>\n",
       "      <td>0</td>\n",
       "      <td>0</td>\n",
       "    </tr>\n",
       "    <tr>\n",
       "      <th>4</th>\n",
       "      <td>0</td>\n",
       "      <td>0</td>\n",
       "      <td>0</td>\n",
       "      <td>0</td>\n",
       "      <td>0</td>\n",
       "      <td>0</td>\n",
       "      <td>0</td>\n",
       "      <td>0</td>\n",
       "      <td>0</td>\n",
       "      <td>0</td>\n",
       "      <td>...</td>\n",
       "      <td>0</td>\n",
       "      <td>0</td>\n",
       "      <td>0</td>\n",
       "      <td>0</td>\n",
       "      <td>0</td>\n",
       "      <td>0</td>\n",
       "      <td>0</td>\n",
       "      <td>0</td>\n",
       "      <td>0</td>\n",
       "      <td>0</td>\n",
       "    </tr>\n",
       "    <tr>\n",
       "      <th>...</th>\n",
       "      <td>...</td>\n",
       "      <td>...</td>\n",
       "      <td>...</td>\n",
       "      <td>...</td>\n",
       "      <td>...</td>\n",
       "      <td>...</td>\n",
       "      <td>...</td>\n",
       "      <td>...</td>\n",
       "      <td>...</td>\n",
       "      <td>...</td>\n",
       "      <td>...</td>\n",
       "      <td>...</td>\n",
       "      <td>...</td>\n",
       "      <td>...</td>\n",
       "      <td>...</td>\n",
       "      <td>...</td>\n",
       "      <td>...</td>\n",
       "      <td>...</td>\n",
       "      <td>...</td>\n",
       "      <td>...</td>\n",
       "      <td>...</td>\n",
       "    </tr>\n",
       "    <tr>\n",
       "      <th>7915</th>\n",
       "      <td>0</td>\n",
       "      <td>0</td>\n",
       "      <td>0</td>\n",
       "      <td>0</td>\n",
       "      <td>0</td>\n",
       "      <td>0</td>\n",
       "      <td>0</td>\n",
       "      <td>0</td>\n",
       "      <td>0</td>\n",
       "      <td>0</td>\n",
       "      <td>...</td>\n",
       "      <td>0</td>\n",
       "      <td>0</td>\n",
       "      <td>0</td>\n",
       "      <td>0</td>\n",
       "      <td>0</td>\n",
       "      <td>0</td>\n",
       "      <td>0</td>\n",
       "      <td>0</td>\n",
       "      <td>0</td>\n",
       "      <td>0</td>\n",
       "    </tr>\n",
       "    <tr>\n",
       "      <th>7916</th>\n",
       "      <td>0</td>\n",
       "      <td>0</td>\n",
       "      <td>0</td>\n",
       "      <td>0</td>\n",
       "      <td>0</td>\n",
       "      <td>0</td>\n",
       "      <td>0</td>\n",
       "      <td>0</td>\n",
       "      <td>0</td>\n",
       "      <td>0</td>\n",
       "      <td>...</td>\n",
       "      <td>0</td>\n",
       "      <td>0</td>\n",
       "      <td>0</td>\n",
       "      <td>0</td>\n",
       "      <td>0</td>\n",
       "      <td>0</td>\n",
       "      <td>0</td>\n",
       "      <td>0</td>\n",
       "      <td>0</td>\n",
       "      <td>0</td>\n",
       "    </tr>\n",
       "    <tr>\n",
       "      <th>7917</th>\n",
       "      <td>0</td>\n",
       "      <td>0</td>\n",
       "      <td>0</td>\n",
       "      <td>0</td>\n",
       "      <td>0</td>\n",
       "      <td>0</td>\n",
       "      <td>0</td>\n",
       "      <td>0</td>\n",
       "      <td>0</td>\n",
       "      <td>0</td>\n",
       "      <td>...</td>\n",
       "      <td>0</td>\n",
       "      <td>0</td>\n",
       "      <td>0</td>\n",
       "      <td>0</td>\n",
       "      <td>0</td>\n",
       "      <td>0</td>\n",
       "      <td>0</td>\n",
       "      <td>0</td>\n",
       "      <td>0</td>\n",
       "      <td>0</td>\n",
       "    </tr>\n",
       "    <tr>\n",
       "      <th>7918</th>\n",
       "      <td>0</td>\n",
       "      <td>0</td>\n",
       "      <td>0</td>\n",
       "      <td>0</td>\n",
       "      <td>0</td>\n",
       "      <td>0</td>\n",
       "      <td>0</td>\n",
       "      <td>0</td>\n",
       "      <td>0</td>\n",
       "      <td>0</td>\n",
       "      <td>...</td>\n",
       "      <td>0</td>\n",
       "      <td>0</td>\n",
       "      <td>0</td>\n",
       "      <td>0</td>\n",
       "      <td>0</td>\n",
       "      <td>0</td>\n",
       "      <td>0</td>\n",
       "      <td>0</td>\n",
       "      <td>0</td>\n",
       "      <td>0</td>\n",
       "    </tr>\n",
       "    <tr>\n",
       "      <th>7919</th>\n",
       "      <td>0</td>\n",
       "      <td>0</td>\n",
       "      <td>0</td>\n",
       "      <td>0</td>\n",
       "      <td>0</td>\n",
       "      <td>0</td>\n",
       "      <td>0</td>\n",
       "      <td>0</td>\n",
       "      <td>0</td>\n",
       "      <td>0</td>\n",
       "      <td>...</td>\n",
       "      <td>0</td>\n",
       "      <td>0</td>\n",
       "      <td>0</td>\n",
       "      <td>0</td>\n",
       "      <td>0</td>\n",
       "      <td>0</td>\n",
       "      <td>0</td>\n",
       "      <td>0</td>\n",
       "      <td>0</td>\n",
       "      <td>0</td>\n",
       "    </tr>\n",
       "  </tbody>\n",
       "</table>\n",
       "<p>7920 rows × 15955 columns</p>\n",
       "</div>"
      ],
      "text/plain": [
       "      0      1      2      3      4      5      6      7      8      9      \\\n",
       "0         0      0      0      0      0      0      0      0      0      0   \n",
       "1         0      0      0      0      0      0      0      0      0      0   \n",
       "2         0      0      0      0      0      0      0      0      0      0   \n",
       "3         0      0      0      0      0      0      0      0      0      0   \n",
       "4         0      0      0      0      0      0      0      0      0      0   \n",
       "...     ...    ...    ...    ...    ...    ...    ...    ...    ...    ...   \n",
       "7915      0      0      0      0      0      0      0      0      0      0   \n",
       "7916      0      0      0      0      0      0      0      0      0      0   \n",
       "7917      0      0      0      0      0      0      0      0      0      0   \n",
       "7918      0      0      0      0      0      0      0      0      0      0   \n",
       "7919      0      0      0      0      0      0      0      0      0      0   \n",
       "\n",
       "      ...  15945  15946  15947  15948  15949  15950  15951  15952  15953  \\\n",
       "0     ...      0      0      0      0      0      0      0      0      0   \n",
       "1     ...      0      0      0      0      0      0      0      0      0   \n",
       "2     ...      0      0      0      0      0      0      0      0      0   \n",
       "3     ...      0      0      0      0      0      0      0      0      0   \n",
       "4     ...      0      0      0      0      0      0      0      0      0   \n",
       "...   ...    ...    ...    ...    ...    ...    ...    ...    ...    ...   \n",
       "7915  ...      0      0      0      0      0      0      0      0      0   \n",
       "7916  ...      0      0      0      0      0      0      0      0      0   \n",
       "7917  ...      0      0      0      0      0      0      0      0      0   \n",
       "7918  ...      0      0      0      0      0      0      0      0      0   \n",
       "7919  ...      0      0      0      0      0      0      0      0      0   \n",
       "\n",
       "      15954  \n",
       "0         0  \n",
       "1         0  \n",
       "2         0  \n",
       "3         0  \n",
       "4         0  \n",
       "...     ...  \n",
       "7915      0  \n",
       "7916      0  \n",
       "7917      0  \n",
       "7918      0  \n",
       "7919      0  \n",
       "\n",
       "[7920 rows x 15955 columns]"
      ]
     },
     "execution_count": 75,
     "metadata": {},
     "output_type": "execute_result"
    }
   ],
   "source": [
    "import pandas as pd\n",
    "df = pd.DataFrame(CV_features.todense() )\n",
    "df  \n",
    "# Document-Term-Matrix X = [N x p ]\n",
    "# N = no. of documentns\n",
    "# p = no. of unique words in the vocab!!# this is your D"
   ]
  },
  {
   "cell_type": "code",
   "execution_count": 76,
   "id": "feefa6c1",
   "metadata": {},
   "outputs": [
    {
     "data": {
      "text/plain": [
       "126.3636"
      ]
     },
     "execution_count": 76,
     "metadata": {},
     "output_type": "execute_result"
    }
   ],
   "source": [
    "df.size/1e6  # these many elements/numbers are presnt in the df"
   ]
  },
  {
   "cell_type": "code",
   "execution_count": 77,
   "id": "810f2182",
   "metadata": {},
   "outputs": [
    {
     "data": {
      "text/plain": [
       "114973"
      ]
     },
     "execution_count": 77,
     "metadata": {},
     "output_type": "execute_result"
    }
   ],
   "source": [
    "import numpy as np\n",
    "np.count_nonzero(df)"
   ]
  },
  {
   "cell_type": "code",
   "execution_count": 78,
   "id": "c4830571",
   "metadata": {},
   "outputs": [
    {
     "data": {
      "text/plain": [
       "0.09098585352110893"
      ]
     },
     "execution_count": 78,
     "metadata": {},
     "output_type": "execute_result"
    }
   ],
   "source": [
    "100*np.count_nonzero(df)/df.size # percent of the non-zero elements i nthe df"
   ]
  },
  {
   "cell_type": "code",
   "execution_count": 79,
   "id": "319c2572",
   "metadata": {},
   "outputs": [
    {
     "data": {
      "text/plain": [
       "array(['aa', 'aaaahhhhhhh', 'aag', 'aah', 'aalborg', 'aand', 'aapl',\n",
       "       'aarhus', 'aaron', 'aarp', 'aarrrggghhhh', 'aashamsakal',\n",
       "       'aaydojbfkq', 'aayp', 'ab', 'abah', 'abareta', 'abay', 'abb',\n",
       "       'abc', 'abdou', 'abe', 'aber', 'abercrombie', 'abi', 'ability',\n",
       "       'abit', 'able', 'ableton', 'abnqum', 'aboard', 'about',\n",
       "       'aboutalook', 'aboutdamntime', 'abouttime', 'abouttonight',\n",
       "       'above', 'abp', 'abscbn', 'absence', 'absolute', 'absolutely',\n",
       "       'absurd', 'abu', 'abudhabi', 'abuja', 'abujacity', 'abujafct',\n",
       "       'abujapeople', 'abujaphones'], dtype=object)"
      ]
     },
     "execution_count": 79,
     "metadata": {},
     "output_type": "execute_result"
    }
   ],
   "source": [
    "CV.get_feature_names_out()[:50]  # these the vocab words"
   ]
  },
  {
   "cell_type": "code",
   "execution_count": 80,
   "id": "02ad8ecd",
   "metadata": {},
   "outputs": [
    {
     "data": {
      "text/plain": [
       "15955"
      ]
     },
     "execution_count": 80,
     "metadata": {},
     "output_type": "execute_result"
    }
   ],
   "source": [
    "len(CV.get_feature_names_out())"
   ]
  },
  {
   "cell_type": "code",
   "execution_count": 81,
   "id": "ee11e515",
   "metadata": {},
   "outputs": [
    {
     "data": {
      "text/plain": [
       "matrix([[0, 0, 0, ..., 0, 0, 0]], dtype=int64)"
      ]
     },
     "execution_count": 81,
     "metadata": {},
     "output_type": "execute_result"
    }
   ],
   "source": [
    "CV_features[10].todense()  # these are numbers corresponding to the 11th tweet"
   ]
  },
  {
   "cell_type": "code",
   "execution_count": 82,
   "id": "2e57e9cf",
   "metadata": {},
   "outputs": [
    {
     "data": {
      "text/plain": [
       "[array(['apple', 'color', 'crash', 'do', 'every', 'five', 'fuckin', 'hey',\n",
       "        'inch', 'ipod', 'it', 'make', 'minite', 'new', 'not', 'or',\n",
       "        'thinner', 'when', 'you'], dtype='<U41')]"
      ]
     },
     "execution_count": 82,
     "metadata": {},
     "output_type": "execute_result"
    }
   ],
   "source": [
    "CV.inverse_transform(np.asarray(CV_features[10].todense()))  # actual words in the 10th tweet"
   ]
  },
  {
   "cell_type": "markdown",
   "id": "3120d10c",
   "metadata": {},
   "source": [
    "# Model building"
   ]
  },
  {
   "cell_type": "code",
   "execution_count": 83,
   "id": "569d61e4",
   "metadata": {},
   "outputs": [],
   "source": [
    "from sklearn.model_selection import train_test_split\n",
    "\n",
    "X_train, X_test, y_train, y_test = train_test_split(CV_features, data['label'], test_size=0.25, stratify=data['label'], random_state=42)"
   ]
  },
  {
   "cell_type": "code",
   "execution_count": 84,
   "id": "e3b4e2f7",
   "metadata": {},
   "outputs": [
    {
     "name": "stdout",
     "output_type": "stream",
     "text": [
      "0.9779461279461279\n",
      "0.8813131313131313\n"
     ]
    }
   ],
   "source": [
    "from sklearn.linear_model import LogisticRegression\n",
    "LR = LogisticRegression(solver='liblinear')\n",
    "LR.fit(X_train, y_train)\n",
    "\n",
    "print(LR.score(X_train, y_train))  # train score)\n",
    "print(LR.score(X_test, y_test))   # test score)  "
   ]
  },
  {
   "cell_type": "code",
   "execution_count": null,
   "id": "2009259a",
   "metadata": {},
   "outputs": [],
   "source": []
  },
  {
   "cell_type": "code",
   "execution_count": null,
   "id": "c7593f72",
   "metadata": {},
   "outputs": [],
   "source": []
  },
  {
   "cell_type": "code",
   "execution_count": 87,
   "id": "f354afda",
   "metadata": {},
   "outputs": [
    {
     "name": "stdout",
     "output_type": "stream",
     "text": [
      "0.9038720538720538\n",
      "0.8813131313131313\n"
     ]
    }
   ],
   "source": [
    "## L1-REGULARIZATION\n",
    "LR1 = LogisticRegression(class_weight='balanced', solver='liblinear', penalty='l1', C=0.4)\n",
    "LR1.fit(X_train, y_train)\n",
    "\n",
    "print(LR1.score(X_train, y_train))  # train score)\n",
    "print(LR1.score(X_test, y_test))   # test score)      "
   ]
  },
  {
   "cell_type": "code",
   "execution_count": 88,
   "id": "a9226122",
   "metadata": {},
   "outputs": [],
   "source": [
    "## leT'S Cross-Validate the Logistic Regression Model ?????\n",
    "from sklearn.model_selection import cross_val_score, cross_validate\n",
    "from sklearn.model_selection import StratifiedKFold"
   ]
  },
  {
   "cell_type": "code",
   "execution_count": 89,
   "id": "3abf8ea0",
   "metadata": {},
   "outputs": [],
   "source": [
    "X = CV_features\n",
    "y = data['label']"
   ]
  },
  {
   "cell_type": "code",
   "execution_count": 90,
   "id": "6dfeb4a8",
   "metadata": {},
   "outputs": [
    {
     "name": "stdout",
     "output_type": "stream",
     "text": [
      "[0.88320707 0.86931818 0.87752525 0.89709596 0.88699495]\n",
      "88.28 0.93\n"
     ]
    }
   ],
   "source": [
    "## crOSS VALIDATE THE LR2 model\n",
    "\n",
    "LR1 = LogisticRegression(class_weight='balanced', solver='liblinear', penalty='l1', C=0.4)\n",
    "kfold = StratifiedKFold(n_splits=5, shuffle=True, random_state=42)\n",
    "results = cross_val_score(LR1, X, y, cv=kfold, scoring='accuracy')\n",
    "print(results)\n",
    "print(np.round((results.mean())*100, 2), np.round((results.std())*100, 2)) "
   ]
  },
  {
   "cell_type": "code",
   "execution_count": null,
   "id": "86a5fd52",
   "metadata": {},
   "outputs": [],
   "source": [
    "# your's accuracy = 88.23 +/- 0.93 %"
   ]
  },
  {
   "cell_type": "code",
   "execution_count": 91,
   "id": "77e8b016",
   "metadata": {},
   "outputs": [],
   "source": [
    "kfold = StratifiedKFold(n_splits=5, shuffle=True, random_state=42)\n",
    "results = cross_validate(LR1, X, y, cv=kfold, scoring='accuracy', return_train_score=True)"
   ]
  },
  {
   "cell_type": "code",
   "execution_count": 92,
   "id": "995d4fc5",
   "metadata": {},
   "outputs": [
    {
     "data": {
      "text/plain": [
       "{'fit_time': array([0.06283402, 0.07779241, 0.07579851, 0.06382847, 0.06183457]),\n",
       " 'score_time': array([0.00099492, 0.00199461, 0.00099397, 0.00200081, 0.00099778]),\n",
       " 'test_score': array([0.88320707, 0.86931818, 0.87752525, 0.89709596, 0.88699495]),\n",
       " 'train_score': array([0.90388258, 0.90909091, 0.9040404 , 0.90372475, 0.90451389])}"
      ]
     },
     "execution_count": 92,
     "metadata": {},
     "output_type": "execute_result"
    }
   ],
   "source": [
    "results"
   ]
  },
  {
   "cell_type": "code",
   "execution_count": 93,
   "id": "83f1e16f",
   "metadata": {},
   "outputs": [
    {
     "name": "stdout",
     "output_type": "stream",
     "text": [
      "[0.90388258 0.90909091 0.9040404  0.90372475 0.90451389]\n",
      "90.51 0.2\n"
     ]
    }
   ],
   "source": [
    "print(results['train_score'])\n",
    "print(np.round((results['train_score'].mean())*100, 2), np.round((results['train_score'].std())*100, 2)) "
   ]
  },
  {
   "cell_type": "code",
   "execution_count": 94,
   "id": "afc76255",
   "metadata": {},
   "outputs": [
    {
     "name": "stdout",
     "output_type": "stream",
     "text": [
      "[0.88320707 0.86931818 0.87752525 0.89709596 0.88699495]\n",
      "88.28 0.93\n"
     ]
    }
   ],
   "source": [
    "print(results['test_score'])\n",
    "print(np.round((results['test_score'].mean())*100, 2), np.round((results['test_score'].std())*100, 2)) "
   ]
  },
  {
   "cell_type": "code",
   "execution_count": 96,
   "id": "163239b0",
   "metadata": {},
   "outputs": [
    {
     "name": "stdout",
     "output_type": "stream",
     "text": [
      "Fitting 5 folds for each of 20 candidates, totalling 100 fits\n"
     ]
    }
   ],
   "source": [
    "## Hyper parameter tuning of the LR2 model\n",
    "from sklearn.model_selection import GridSearchCV\n",
    "\n",
    "LR1 = LogisticRegression(class_weight='balanced', solver='liblinear', penalty='l1')\n",
    "\n",
    "C_values = np.arange(0.00001, 1, 0.05) # 20 values\n",
    "\n",
    "grid = GridSearchCV(estimator=LR1, param_grid={'C': C_values}, cv=kfold, scoring='accuracy', \\\n",
    "                    return_train_score=True, verbose=2, n_jobs=-1)\n",
    "grid_results = grid.fit(X,y)"
   ]
  },
  {
   "cell_type": "code",
   "execution_count": 97,
   "id": "77bd262e",
   "metadata": {},
   "outputs": [
    {
     "data": {
      "text/html": [
       "<style>#sk-container-id-1 {color: black;background-color: white;}#sk-container-id-1 pre{padding: 0;}#sk-container-id-1 div.sk-toggleable {background-color: white;}#sk-container-id-1 label.sk-toggleable__label {cursor: pointer;display: block;width: 100%;margin-bottom: 0;padding: 0.3em;box-sizing: border-box;text-align: center;}#sk-container-id-1 label.sk-toggleable__label-arrow:before {content: \"▸\";float: left;margin-right: 0.25em;color: #696969;}#sk-container-id-1 label.sk-toggleable__label-arrow:hover:before {color: black;}#sk-container-id-1 div.sk-estimator:hover label.sk-toggleable__label-arrow:before {color: black;}#sk-container-id-1 div.sk-toggleable__content {max-height: 0;max-width: 0;overflow: hidden;text-align: left;background-color: #f0f8ff;}#sk-container-id-1 div.sk-toggleable__content pre {margin: 0.2em;color: black;border-radius: 0.25em;background-color: #f0f8ff;}#sk-container-id-1 input.sk-toggleable__control:checked~div.sk-toggleable__content {max-height: 200px;max-width: 100%;overflow: auto;}#sk-container-id-1 input.sk-toggleable__control:checked~label.sk-toggleable__label-arrow:before {content: \"▾\";}#sk-container-id-1 div.sk-estimator input.sk-toggleable__control:checked~label.sk-toggleable__label {background-color: #d4ebff;}#sk-container-id-1 div.sk-label input.sk-toggleable__control:checked~label.sk-toggleable__label {background-color: #d4ebff;}#sk-container-id-1 input.sk-hidden--visually {border: 0;clip: rect(1px 1px 1px 1px);clip: rect(1px, 1px, 1px, 1px);height: 1px;margin: -1px;overflow: hidden;padding: 0;position: absolute;width: 1px;}#sk-container-id-1 div.sk-estimator {font-family: monospace;background-color: #f0f8ff;border: 1px dotted black;border-radius: 0.25em;box-sizing: border-box;margin-bottom: 0.5em;}#sk-container-id-1 div.sk-estimator:hover {background-color: #d4ebff;}#sk-container-id-1 div.sk-parallel-item::after {content: \"\";width: 100%;border-bottom: 1px solid gray;flex-grow: 1;}#sk-container-id-1 div.sk-label:hover label.sk-toggleable__label {background-color: #d4ebff;}#sk-container-id-1 div.sk-serial::before {content: \"\";position: absolute;border-left: 1px solid gray;box-sizing: border-box;top: 0;bottom: 0;left: 50%;z-index: 0;}#sk-container-id-1 div.sk-serial {display: flex;flex-direction: column;align-items: center;background-color: white;padding-right: 0.2em;padding-left: 0.2em;position: relative;}#sk-container-id-1 div.sk-item {position: relative;z-index: 1;}#sk-container-id-1 div.sk-parallel {display: flex;align-items: stretch;justify-content: center;background-color: white;position: relative;}#sk-container-id-1 div.sk-item::before, #sk-container-id-1 div.sk-parallel-item::before {content: \"\";position: absolute;border-left: 1px solid gray;box-sizing: border-box;top: 0;bottom: 0;left: 50%;z-index: -1;}#sk-container-id-1 div.sk-parallel-item {display: flex;flex-direction: column;z-index: 1;position: relative;background-color: white;}#sk-container-id-1 div.sk-parallel-item:first-child::after {align-self: flex-end;width: 50%;}#sk-container-id-1 div.sk-parallel-item:last-child::after {align-self: flex-start;width: 50%;}#sk-container-id-1 div.sk-parallel-item:only-child::after {width: 0;}#sk-container-id-1 div.sk-dashed-wrapped {border: 1px dashed gray;margin: 0 0.4em 0.5em 0.4em;box-sizing: border-box;padding-bottom: 0.4em;background-color: white;}#sk-container-id-1 div.sk-label label {font-family: monospace;font-weight: bold;display: inline-block;line-height: 1.2em;}#sk-container-id-1 div.sk-label-container {text-align: center;}#sk-container-id-1 div.sk-container {/* jupyter's `normalize.less` sets `[hidden] { display: none; }` but bootstrap.min.css set `[hidden] { display: none !important; }` so we also need the `!important` here to be able to override the default hidden behavior on the sphinx rendered scikit-learn.org. See: https://github.com/scikit-learn/scikit-learn/issues/21755 */display: inline-block !important;position: relative;}#sk-container-id-1 div.sk-text-repr-fallback {display: none;}</style><div id=\"sk-container-id-1\" class=\"sk-top-container\"><div class=\"sk-text-repr-fallback\"><pre>GridSearchCV(cv=StratifiedKFold(n_splits=5, random_state=42, shuffle=True),\n",
       "             estimator=LogisticRegression(class_weight=&#x27;balanced&#x27;, penalty=&#x27;l1&#x27;,\n",
       "                                          solver=&#x27;liblinear&#x27;),\n",
       "             n_jobs=-1,\n",
       "             param_grid={&#x27;C&#x27;: array([1.0000e-05, 5.0010e-02, 1.0001e-01, 1.5001e-01, 2.0001e-01,\n",
       "       2.5001e-01, 3.0001e-01, 3.5001e-01, 4.0001e-01, 4.5001e-01,\n",
       "       5.0001e-01, 5.5001e-01, 6.0001e-01, 6.5001e-01, 7.0001e-01,\n",
       "       7.5001e-01, 8.0001e-01, 8.5001e-01, 9.0001e-01, 9.5001e-01])},\n",
       "             return_train_score=True, scoring=&#x27;accuracy&#x27;, verbose=2)</pre><b>In a Jupyter environment, please rerun this cell to show the HTML representation or trust the notebook. <br />On GitHub, the HTML representation is unable to render, please try loading this page with nbviewer.org.</b></div><div class=\"sk-container\" hidden><div class=\"sk-item sk-dashed-wrapped\"><div class=\"sk-label-container\"><div class=\"sk-label sk-toggleable\"><input class=\"sk-toggleable__control sk-hidden--visually\" id=\"sk-estimator-id-1\" type=\"checkbox\" ><label for=\"sk-estimator-id-1\" class=\"sk-toggleable__label sk-toggleable__label-arrow\">GridSearchCV</label><div class=\"sk-toggleable__content\"><pre>GridSearchCV(cv=StratifiedKFold(n_splits=5, random_state=42, shuffle=True),\n",
       "             estimator=LogisticRegression(class_weight=&#x27;balanced&#x27;, penalty=&#x27;l1&#x27;,\n",
       "                                          solver=&#x27;liblinear&#x27;),\n",
       "             n_jobs=-1,\n",
       "             param_grid={&#x27;C&#x27;: array([1.0000e-05, 5.0010e-02, 1.0001e-01, 1.5001e-01, 2.0001e-01,\n",
       "       2.5001e-01, 3.0001e-01, 3.5001e-01, 4.0001e-01, 4.5001e-01,\n",
       "       5.0001e-01, 5.5001e-01, 6.0001e-01, 6.5001e-01, 7.0001e-01,\n",
       "       7.5001e-01, 8.0001e-01, 8.5001e-01, 9.0001e-01, 9.5001e-01])},\n",
       "             return_train_score=True, scoring=&#x27;accuracy&#x27;, verbose=2)</pre></div></div></div><div class=\"sk-parallel\"><div class=\"sk-parallel-item\"><div class=\"sk-item\"><div class=\"sk-label-container\"><div class=\"sk-label sk-toggleable\"><input class=\"sk-toggleable__control sk-hidden--visually\" id=\"sk-estimator-id-2\" type=\"checkbox\" ><label for=\"sk-estimator-id-2\" class=\"sk-toggleable__label sk-toggleable__label-arrow\">estimator: LogisticRegression</label><div class=\"sk-toggleable__content\"><pre>LogisticRegression(class_weight=&#x27;balanced&#x27;, penalty=&#x27;l1&#x27;, solver=&#x27;liblinear&#x27;)</pre></div></div></div><div class=\"sk-serial\"><div class=\"sk-item\"><div class=\"sk-estimator sk-toggleable\"><input class=\"sk-toggleable__control sk-hidden--visually\" id=\"sk-estimator-id-3\" type=\"checkbox\" ><label for=\"sk-estimator-id-3\" class=\"sk-toggleable__label sk-toggleable__label-arrow\">LogisticRegression</label><div class=\"sk-toggleable__content\"><pre>LogisticRegression(class_weight=&#x27;balanced&#x27;, penalty=&#x27;l1&#x27;, solver=&#x27;liblinear&#x27;)</pre></div></div></div></div></div></div></div></div></div></div>"
      ],
      "text/plain": [
       "GridSearchCV(cv=StratifiedKFold(n_splits=5, random_state=42, shuffle=True),\n",
       "             estimator=LogisticRegression(class_weight='balanced', penalty='l1',\n",
       "                                          solver='liblinear'),\n",
       "             n_jobs=-1,\n",
       "             param_grid={'C': array([1.0000e-05, 5.0010e-02, 1.0001e-01, 1.5001e-01, 2.0001e-01,\n",
       "       2.5001e-01, 3.0001e-01, 3.5001e-01, 4.0001e-01, 4.5001e-01,\n",
       "       5.0001e-01, 5.5001e-01, 6.0001e-01, 6.5001e-01, 7.0001e-01,\n",
       "       7.5001e-01, 8.0001e-01, 8.5001e-01, 9.0001e-01, 9.5001e-01])},\n",
       "             return_train_score=True, scoring='accuracy', verbose=2)"
      ]
     },
     "execution_count": 97,
     "metadata": {},
     "output_type": "execute_result"
    }
   ],
   "source": [
    "grid_results"
   ]
  },
  {
   "cell_type": "code",
   "execution_count": 99,
   "id": "e5a002bb",
   "metadata": {},
   "outputs": [
    {
     "data": {
      "text/plain": [
       "({'C': 0.95001}, 0.8904040404040403, 19)"
      ]
     },
     "execution_count": 99,
     "metadata": {},
     "output_type": "execute_result"
    }
   ],
   "source": [
    "grid_results.best_params_, grid_results.best_score_, grid_results.best_index_"
   ]
  },
  {
   "cell_type": "code",
   "execution_count": 109,
   "id": "435673fd",
   "metadata": {},
   "outputs": [
    {
     "data": {
      "text/plain": [
       "dict_keys(['mean_fit_time', 'std_fit_time', 'mean_score_time', 'std_score_time', 'param_C', 'params', 'split0_test_score', 'split1_test_score', 'split2_test_score', 'split3_test_score', 'split4_test_score', 'mean_test_score', 'std_test_score', 'rank_test_score', 'split0_train_score', 'split1_train_score', 'split2_train_score', 'split3_train_score', 'split4_train_score', 'mean_train_score', 'std_train_score'])"
      ]
     },
     "execution_count": 109,
     "metadata": {},
     "output_type": "execute_result"
    }
   ],
   "source": [
    "grid_results.cv_results_.keys()"
   ]
  },
  {
   "cell_type": "code",
   "execution_count": 110,
   "id": "2d5fbc93",
   "metadata": {},
   "outputs": [
    {
     "data": {
      "text/plain": [
       "89.04040404040403"
      ]
     },
     "execution_count": 110,
     "metadata": {},
     "output_type": "execute_result"
    }
   ],
   "source": [
    "grid_results.cv_results_['mean_test_score'][grid_results.best_index_]*100"
   ]
  },
  {
   "cell_type": "code",
   "execution_count": 111,
   "id": "f9b3e040",
   "metadata": {},
   "outputs": [
    {
     "data": {
      "text/plain": [
       "93.27967171717171"
      ]
     },
     "execution_count": 111,
     "metadata": {},
     "output_type": "execute_result"
    }
   ],
   "source": [
    "grid_results.cv_results_['mean_train_score'][grid_results.best_index_]*100\n",
    "\n",
    "# means your \"best-fitted\" model from GridsearchCV is (could be) still OVERFITTED!!!!!!!!!"
   ]
  },
  {
   "cell_type": "code",
   "execution_count": 112,
   "id": "ccdac777",
   "metadata": {},
   "outputs": [
    {
     "data": {
      "text/plain": [
       "0.6482574572218915"
      ]
     },
     "execution_count": 112,
     "metadata": {},
     "output_type": "execute_result"
    }
   ],
   "source": [
    "grid_results.cv_results_['std_test_score'][grid_results.best_index_]*100"
   ]
  },
  {
   "cell_type": "code",
   "execution_count": 113,
   "id": "ed3ef63b",
   "metadata": {},
   "outputs": [
    {
     "data": {
      "text/plain": [
       "array([0.74419192, 0.84494949, 0.86338384, 0.87171717, 0.87537879,\n",
       "       0.8790404 , 0.88017677, 0.88156566, 0.88282828, 0.88497475,\n",
       "       0.88560606, 0.88661616, 0.88699495, 0.88876263, 0.88939394,\n",
       "       0.88901515, 0.8895202 , 0.8895202 , 0.89002525, 0.89040404])"
      ]
     },
     "execution_count": 113,
     "metadata": {},
     "output_type": "execute_result"
    }
   ],
   "source": [
    "grid_results.cv_results_['mean_test_score']"
   ]
  },
  {
   "cell_type": "code",
   "execution_count": 114,
   "id": "5623697d",
   "metadata": {},
   "outputs": [
    {
     "data": {
      "text/plain": [
       "array([0.74419192, 0.85      , 0.86998106, 0.8803346 , 0.88715278,\n",
       "       0.89232955, 0.89649621, 0.90094697, 0.90501894, 0.90811237,\n",
       "       0.91003788, 0.91344697, 0.9157197 , 0.91856061, 0.92130682,\n",
       "       0.92332702, 0.92604167, 0.92856692, 0.93055556, 0.93279672])"
      ]
     },
     "execution_count": 114,
     "metadata": {},
     "output_type": "execute_result"
    }
   ],
   "source": [
    "grid_results.cv_results_['mean_train_score']"
   ]
  },
  {
   "cell_type": "code",
   "execution_count": 106,
   "id": "5eb5d67e",
   "metadata": {
    "scrolled": true
   },
   "outputs": [
    {
     "data": {
      "text/plain": [
       "[<matplotlib.lines.Line2D at 0x2be7b8aae30>]"
      ]
     },
     "execution_count": 106,
     "metadata": {},
     "output_type": "execute_result"
    },
    {
     "data": {
      "image/png": "[encoded data removed]",
      "text/plain": [
       "<Figure size 640x480 with 1 Axes>"
      ]
     },
     "metadata": {},
     "output_type": "display_data"
    }
   ],
   "source": [
    "plt.plot(grid_results.cv_results_['mean_train_score'] - grid_results.cv_results_['mean_test_score'])"
   ]
  },
  {
   "cell_type": "code",
   "execution_count": 107,
   "id": "ca47c47a",
   "metadata": {},
   "outputs": [
    {
     "data": {
      "text/plain": [
       "{'C': array([1.0000e-05, 5.0010e-02, 1.0001e-01, 1.5001e-01, 2.0001e-01,\n",
       "        2.5001e-01, 3.0001e-01, 3.5001e-01, 4.0001e-01, 4.5001e-01,\n",
       "        5.0001e-01, 5.5001e-01, 6.0001e-01, 6.5001e-01, 7.0001e-01,\n",
       "        7.5001e-01, 8.0001e-01, 8.5001e-01, 9.0001e-01, 9.5001e-01])}"
      ]
     },
     "execution_count": 107,
     "metadata": {},
     "output_type": "execute_result"
    }
   ],
   "source": [
    "grid_results.param_grid"
   ]
  },
  {
   "cell_type": "code",
   "execution_count": 108,
   "id": "b84e1aac",
   "metadata": {},
   "outputs": [
    {
     "data": {
      "text/plain": [
       "0.15001000000000003"
      ]
     },
     "execution_count": 108,
     "metadata": {},
     "output_type": "execute_result"
    }
   ],
   "source": [
    "grid_results.param_grid['C'][3]"
   ]
  },
  {
   "cell_type": "code",
   "execution_count": 104,
   "id": "e1040ccb",
   "metadata": {},
   "outputs": [
    {
     "data": {
      "text/plain": [
       "array([0.0042298 , 0.02083333, 0.03074495, 0.03958333, 0.04343434,\n",
       "       0.04712753, 0.05148359, 0.05388258, 0.05782828, 0.0602904 ,\n",
       "       0.06272096, 0.06565657, 0.06742424, 0.06988636, 0.07118056,\n",
       "       0.07247475, 0.07386364, 0.07550505, 0.0770202 , 0.07840909])"
      ]
     },
     "execution_count": 104,
     "metadata": {},
     "output_type": "execute_result"
    }
   ],
   "source": [
    "grid_results.cv_results_['mean_train_score'] - grid_results.cv_results_['mean_test_score']"
   ]
  },
  {
   "cell_type": "code",
   "execution_count": 116,
   "id": "588ddf23",
   "metadata": {},
   "outputs": [
    {
     "name": "stdout",
     "output_type": "stream",
     "text": [
      "88.28 0.93\n"
     ]
    }
   ],
   "source": [
    "# Create a pipeline & cross-validate\n",
    "from sklearn.pipeline import make_pipeline, Pipeline\n",
    "\n",
    "X = data['cleaned_tweets_w/o_SW']\n",
    "y = data['label']\n",
    "\n",
    "CV = CountVectorizer()\n",
    "LR1 = LogisticRegression(class_weight='balanced', solver='liblinear', penalty='l1', C=0.4)\n",
    "\n",
    "CV_pipe = Pipeline([('CV', CV) , ('LR', LR1)] )\n",
    "\n",
    "results = cross_val_score(CV_pipe, X, y, cv=kfold, scoring='accuracy')\n",
    "print(np.round((results.mean())*100, 2), np.round((results.std())*100, 2)) "
   ]
  },
  {
   "cell_type": "code",
   "execution_count": 119,
   "id": "5ce8d975",
   "metadata": {},
   "outputs": [
    {
     "data": {
      "text/plain": [
       "{'CV': CountVectorizer(),\n",
       " 'LR': LogisticRegression(C=0.4, class_weight='balanced', penalty='l1',\n",
       "                    solver='liblinear')}"
      ]
     },
     "execution_count": 119,
     "metadata": {},
     "output_type": "execute_result"
    }
   ],
   "source": [
    "CV_pipe.named_steps"
   ]
  },
  {
   "cell_type": "code",
   "execution_count": 120,
   "id": "c36e7de4",
   "metadata": {},
   "outputs": [
    {
     "data": {
      "text/html": [
       "<style>#sk-container-id-2 {color: black;background-color: white;}#sk-container-id-2 pre{padding: 0;}#sk-container-id-2 div.sk-toggleable {background-color: white;}#sk-container-id-2 label.sk-toggleable__label {cursor: pointer;display: block;width: 100%;margin-bottom: 0;padding: 0.3em;box-sizing: border-box;text-align: center;}#sk-container-id-2 label.sk-toggleable__label-arrow:before {content: \"▸\";float: left;margin-right: 0.25em;color: #696969;}#sk-container-id-2 label.sk-toggleable__label-arrow:hover:before {color: black;}#sk-container-id-2 div.sk-estimator:hover label.sk-toggleable__label-arrow:before {color: black;}#sk-container-id-2 div.sk-toggleable__content {max-height: 0;max-width: 0;overflow: hidden;text-align: left;background-color: #f0f8ff;}#sk-container-id-2 div.sk-toggleable__content pre {margin: 0.2em;color: black;border-radius: 0.25em;background-color: #f0f8ff;}#sk-container-id-2 input.sk-toggleable__control:checked~div.sk-toggleable__content {max-height: 200px;max-width: 100%;overflow: auto;}#sk-container-id-2 input.sk-toggleable__control:checked~label.sk-toggleable__label-arrow:before {content: \"▾\";}#sk-container-id-2 div.sk-estimator input.sk-toggleable__control:checked~label.sk-toggleable__label {background-color: #d4ebff;}#sk-container-id-2 div.sk-label input.sk-toggleable__control:checked~label.sk-toggleable__label {background-color: #d4ebff;}#sk-container-id-2 input.sk-hidden--visually {border: 0;clip: rect(1px 1px 1px 1px);clip: rect(1px, 1px, 1px, 1px);height: 1px;margin: -1px;overflow: hidden;padding: 0;position: absolute;width: 1px;}#sk-container-id-2 div.sk-estimator {font-family: monospace;background-color: #f0f8ff;border: 1px dotted black;border-radius: 0.25em;box-sizing: border-box;margin-bottom: 0.5em;}#sk-container-id-2 div.sk-estimator:hover {background-color: #d4ebff;}#sk-container-id-2 div.sk-parallel-item::after {content: \"\";width: 100%;border-bottom: 1px solid gray;flex-grow: 1;}#sk-container-id-2 div.sk-label:hover label.sk-toggleable__label {background-color: #d4ebff;}#sk-container-id-2 div.sk-serial::before {content: \"\";position: absolute;border-left: 1px solid gray;box-sizing: border-box;top: 0;bottom: 0;left: 50%;z-index: 0;}#sk-container-id-2 div.sk-serial {display: flex;flex-direction: column;align-items: center;background-color: white;padding-right: 0.2em;padding-left: 0.2em;position: relative;}#sk-container-id-2 div.sk-item {position: relative;z-index: 1;}#sk-container-id-2 div.sk-parallel {display: flex;align-items: stretch;justify-content: center;background-color: white;position: relative;}#sk-container-id-2 div.sk-item::before, #sk-container-id-2 div.sk-parallel-item::before {content: \"\";position: absolute;border-left: 1px solid gray;box-sizing: border-box;top: 0;bottom: 0;left: 50%;z-index: -1;}#sk-container-id-2 div.sk-parallel-item {display: flex;flex-direction: column;z-index: 1;position: relative;background-color: white;}#sk-container-id-2 div.sk-parallel-item:first-child::after {align-self: flex-end;width: 50%;}#sk-container-id-2 div.sk-parallel-item:last-child::after {align-self: flex-start;width: 50%;}#sk-container-id-2 div.sk-parallel-item:only-child::after {width: 0;}#sk-container-id-2 div.sk-dashed-wrapped {border: 1px dashed gray;margin: 0 0.4em 0.5em 0.4em;box-sizing: border-box;padding-bottom: 0.4em;background-color: white;}#sk-container-id-2 div.sk-label label {font-family: monospace;font-weight: bold;display: inline-block;line-height: 1.2em;}#sk-container-id-2 div.sk-label-container {text-align: center;}#sk-container-id-2 div.sk-container {/* jupyter's `normalize.less` sets `[hidden] { display: none; }` but bootstrap.min.css set `[hidden] { display: none !important; }` so we also need the `!important` here to be able to override the default hidden behavior on the sphinx rendered scikit-learn.org. See: https://github.com/scikit-learn/scikit-learn/issues/21755 */display: inline-block !important;position: relative;}#sk-container-id-2 div.sk-text-repr-fallback {display: none;}</style><div id=\"sk-container-id-2\" class=\"sk-top-container\"><div class=\"sk-text-repr-fallback\"><pre>Pipeline(steps=[(&#x27;CV&#x27;, CountVectorizer()),\n",
       "                (&#x27;LR&#x27;,\n",
       "                 LogisticRegression(C=0.4, class_weight=&#x27;balanced&#x27;,\n",
       "                                    penalty=&#x27;l1&#x27;, solver=&#x27;liblinear&#x27;))])</pre><b>In a Jupyter environment, please rerun this cell to show the HTML representation or trust the notebook. <br />On GitHub, the HTML representation is unable to render, please try loading this page with nbviewer.org.</b></div><div class=\"sk-container\" hidden><div class=\"sk-item sk-dashed-wrapped\"><div class=\"sk-label-container\"><div class=\"sk-label sk-toggleable\"><input class=\"sk-toggleable__control sk-hidden--visually\" id=\"sk-estimator-id-4\" type=\"checkbox\" ><label for=\"sk-estimator-id-4\" class=\"sk-toggleable__label sk-toggleable__label-arrow\">Pipeline</label><div class=\"sk-toggleable__content\"><pre>Pipeline(steps=[(&#x27;CV&#x27;, CountVectorizer()),\n",
       "                (&#x27;LR&#x27;,\n",
       "                 LogisticRegression(C=0.4, class_weight=&#x27;balanced&#x27;,\n",
       "                                    penalty=&#x27;l1&#x27;, solver=&#x27;liblinear&#x27;))])</pre></div></div></div><div class=\"sk-serial\"><div class=\"sk-item\"><div class=\"sk-estimator sk-toggleable\"><input class=\"sk-toggleable__control sk-hidden--visually\" id=\"sk-estimator-id-5\" type=\"checkbox\" ><label for=\"sk-estimator-id-5\" class=\"sk-toggleable__label sk-toggleable__label-arrow\">CountVectorizer</label><div class=\"sk-toggleable__content\"><pre>CountVectorizer()</pre></div></div></div><div class=\"sk-item\"><div class=\"sk-estimator sk-toggleable\"><input class=\"sk-toggleable__control sk-hidden--visually\" id=\"sk-estimator-id-6\" type=\"checkbox\" ><label for=\"sk-estimator-id-6\" class=\"sk-toggleable__label sk-toggleable__label-arrow\">LogisticRegression</label><div class=\"sk-toggleable__content\"><pre>LogisticRegression(C=0.4, class_weight=&#x27;balanced&#x27;, penalty=&#x27;l1&#x27;,\n",
       "                   solver=&#x27;liblinear&#x27;)</pre></div></div></div></div></div></div></div>"
      ],
      "text/plain": [
       "Pipeline(steps=[('CV', CountVectorizer()),\n",
       "                ('LR',\n",
       "                 LogisticRegression(C=0.4, class_weight='balanced',\n",
       "                                    penalty='l1', solver='liblinear'))])"
      ]
     },
     "execution_count": 120,
     "metadata": {},
     "output_type": "execute_result"
    }
   ],
   "source": [
    "CV_pipe.fit(X,y)"
   ]
  },
  {
   "cell_type": "code",
   "execution_count": 121,
   "id": "fff2a062",
   "metadata": {},
   "outputs": [
    {
     "data": {
      "text/plain": [
       "15955"
      ]
     },
     "execution_count": 121,
     "metadata": {},
     "output_type": "execute_result"
    }
   ],
   "source": [
    "len(CV_pipe['CV'].vocabulary_)  # CV with stopwords applied already & word_len > 2"
   ]
  },
  {
   "cell_type": "code",
   "execution_count": 122,
   "id": "fcdf9c4f",
   "metadata": {},
   "outputs": [
    {
     "data": {
      "text/plain": [
       "{'fingerprint': 4549,\n",
       " 'pregnancy': 10875,\n",
       " 'test': 13759,\n",
       " 'android': 452,\n",
       " 'apps': 666,\n",
       " 'beautiful': 1206,\n",
       " 'cute': 3020,\n",
       " 'health': 5925,\n",
       " 'igers': 6443,\n",
       " 'iphoneonly': 7021,\n",
       " 'iphonesia': 7034,\n",
       " 'iphone': 6985,\n",
       " 'finally': 4533,\n",
       " 'transparant': 14200,\n",
       " 'silicon': 12511,\n",
       " 'case': 2142,\n",
       " 'thanks': 13801,\n",
       " 'to': 14056,\n",
       " 'my': 9244,\n",
       " 'uncle': 14526,\n",
       " 'yay': 15688,\n",
       " 'sony': 12834,\n",
       " 'xperia': 15608,\n",
       " 'sonyexperias': 12844,\n",
       " 'we': 15105,\n",
       " 'love': 8232,\n",
       " 'this': 13920,\n",
       " 'would': 15487,\n",
       " 'you': 15794,\n",
       " 'go': 5354,\n",
       " 'talk': 13571,\n",
       " 'makememories': 8448,\n",
       " 'unplug': 14590,\n",
       " 'relax': 11533,\n",
       " 'smartphone': 12681,\n",
       " 'wifi': 15302,\n",
       " 'connect': 2706,\n",
       " 'am': 378,\n",
       " 'wired': 15347,\n",
       " 'know': 7628,\n",
       " 'george': 5191,\n",
       " 'wa': 14976,\n",
       " 'made': 8389,\n",
       " 'that': 13812,\n",
       " 'way': 15085,\n",
       " 'daventry': 3132,\n",
       " 'home': 6127,\n",
       " 'what': 15205,\n",
       " 'amazing': 389,\n",
       " 'service': 12292,\n",
       " 'apple': 583,\n",
       " 'will': 15312,\n",
       " 'not': 9706,\n",
       " 'even': 4148,\n",
       " 'me': 8636,\n",
       " 'about': 31,\n",
       " 'question': 11224,\n",
       " 'have': 5874,\n",
       " 'unless': 14579,\n",
       " 'pay': 10312,\n",
       " 'them': 13852,\n",
       " 'for': 4733,\n",
       " 'their': 13844,\n",
       " 'stupid': 13267,\n",
       " 'support': 13402,\n",
       " 'software': 12781,\n",
       " 'update': 14617,\n",
       " 'fucked': 4922,\n",
       " 'up': 14615,\n",
       " 'phone': 10453,\n",
       " 'big': 1398,\n",
       " 'time': 13999,\n",
       " 'iphones': 7030,\n",
       " 'happy': 5785,\n",
       " 'instapic': 6855,\n",
       " 'instadaily': 6741,\n",
       " 'xperiaz': 15622,\n",
       " 'new': 9474,\n",
       " 'type': 14429,\n",
       " 'charger': 2271,\n",
       " 'cable': 1976,\n",
       " 'uk': 14486,\n",
       " 'bay': 1145,\n",
       " 'amazon': 392,\n",
       " 'etsy': 4124,\n",
       " 'year': 15706,\n",
       " 'rob': 11795,\n",
       " 'cross': 2941,\n",
       " 'toby': 14062,\n",
       " 'young': 15801,\n",
       " 'evemun': 4147,\n",
       " 'mcmafia': 8627,\n",
       " 'taylor': 13625,\n",
       " 'spectre': 12976,\n",
       " 'newyear': 9538,\n",
       " 'starting': 13100,\n",
       " 'recipe': 11424,\n",
       " 'technology': 13684,\n",
       " 'samsunggalaxys': 12017,\n",
       " 'iphonex': 7044,\n",
       " 'pic': 10527,\n",
       " 'twitter': 14407,\n",
       " 'com': 2595,\n",
       " 'pjiwq': 10630,\n",
       " 'wtc': 15514,\n",
       " 'bout': 1696,\n",
       " 'shopping': 12433,\n",
       " 'again': 215,\n",
       " 'listening': 8042,\n",
       " 'music': 9194,\n",
       " 'justme': 7438,\n",
       " 'likeforlike': 7993,\n",
       " 'followforfollow': 4693,\n",
       " 'photo': 10476,\n",
       " 'fun': 4971,\n",
       " 'selfie': 12239,\n",
       " 'pool': 10759,\n",
       " 'water': 15070,\n",
       " 'camera': 2013,\n",
       " 'picoftheday': 10541,\n",
       " 'sun': 13349,\n",
       " 'instagood': 6782,\n",
       " 'boy': 1713,\n",
       " 'outdoor': 10120,\n",
       " 'hey': 6005,\n",
       " 'when': 15228,\n",
       " 'make': 8443,\n",
       " 'ipod': 7054,\n",
       " 'do': 3504,\n",
       " 'it': 7111,\n",
       " 'color': 2581,\n",
       " 'or': 10045,\n",
       " 'inch': 6614,\n",
       " 'thinner': 13913,\n",
       " 'crash': 2895,\n",
       " 'every': 4157,\n",
       " 'five': 4593,\n",
       " 'fuckin': 4928,\n",
       " 'minite': 8852,\n",
       " 'ha': 5679,\n",
       " 'heavy': 5951,\n",
       " 'machinery': 8372,\n",
       " 'but': 1929,\n",
       " 'doe': 3513,\n",
       " 'need': 9400,\n",
       " 'really': 11396,\n",
       " 'dropped': 3681,\n",
       " 'the': 13818,\n",
       " 'ball': 1055,\n",
       " 'with': 15367,\n",
       " 'design': 3285,\n",
       " 'drinkyourhaterade': 3662,\n",
       " 'contemplating': 2732,\n",
       " 'giving': 5300,\n",
       " 'in': 6602,\n",
       " 'bandwagon': 1075,\n",
       " 'simply': 12529,\n",
       " 'because': 1223,\n",
       " 'cellcom': 2215,\n",
       " 'no': 9635,\n",
       " 'depressing': 3268,\n",
       " 'idontwantto': 6410,\n",
       " 'just': 7425,\n",
       " 'another': 516,\n",
       " 'crazy': 2900,\n",
       " 'purchase': 11105,\n",
       " 'lol': 8137,\n",
       " 'theory': 13865,\n",
       " 'is': 7083,\n",
       " 'work': 15430,\n",
       " 'hard': 5794,\n",
       " 'play': 10661,\n",
       " 'ipad': 6968,\n",
       " 'louise': 8226,\n",
       " 'battery': 1140,\n",
       " 'so': 12752,\n",
       " 'painful': 10193,\n",
       " 'charge': 2268,\n",
       " 'overnight': 10145,\n",
       " 'and': 445,\n",
       " 'by': 1957,\n",
       " 'lunchtime': 8308,\n",
       " 'dead': 3163,\n",
       " 'hateorange': 5857,\n",
       " 'from': 4880,\n",
       " 'deepellum': 3203,\n",
       " 'towards': 14150,\n",
       " 'downtown': 3619,\n",
       " 'dallas': 3080,\n",
       " 'bigd': 1408,\n",
       " 'saturday': 12090,\n",
       " 'rx': 11937,\n",
       " 'summer': 13342,\n",
       " 'urban': 14644,\n",
       " 'like': 7986,\n",
       " 'share': 12350,\n",
       " 'if': 6423,\n",
       " 'want': 15025,\n",
       " 'gfkn': 5231,\n",
       " 'yec': 15711,\n",
       " 'instagram': 6785,\n",
       " 'photooftheday': 10504,\n",
       " 'tweegram': 14373,\n",
       " 'reason': 11405,\n",
       " 'one': 9958,\n",
       " 'suck': 13311,\n",
       " 'truth': 14299,\n",
       " 'truthbetold': 14300,\n",
       " 'agree': 234,\n",
       " 'fact': 4289,\n",
       " 'realitycheck': 11392,\n",
       " 'blackberrypic': 1477,\n",
       " 'zpggd': 15932,\n",
       " 'cazn': 2182,\n",
       " 'how': 6235,\n",
       " 'store': 13193,\n",
       " 'gunna': 5648,\n",
       " 'be': 1168,\n",
       " 'out': 10116,\n",
       " 'of': 9881,\n",
       " 'screen': 12163,\n",
       " 'monday': 9002,\n",
       " 'are': 695,\n",
       " 'fucking': 4929,\n",
       " 'fuckingpissed': 4931,\n",
       " 'art': 744,\n",
       " 'easter': 3820,\n",
       " 'dear': 3169,\n",
       " 'friend': 4866,\n",
       " 'published': 11065,\n",
       " 'on': 9954,\n",
       " 'channel': 2265,\n",
       " 'face': 4271,\n",
       " 'bunny': 1906,\n",
       " 'email': 3966,\n",
       " 'png': 10712,\n",
       " 'thumbnail': 13964,\n",
       " 'mutita': 9229,\n",
       " 'edibleart': 3861,\n",
       " 'compic': 2650,\n",
       " 'jhwphfbgt': 7301,\n",
       " 'excuse': 4195,\n",
       " 'waiter': 14993,\n",
       " 'there': 13874,\n",
       " 'seems': 12221,\n",
       " 'pie': 10558,\n",
       " 'soup': 12917,\n",
       " 'wife': 15300,\n",
       " 'bake': 1043,\n",
       " 'an': 434,\n",
       " 'had': 5691,\n",
       " 'four': 4784,\n",
       " 'day': 3138,\n",
       " 'button': 1940,\n",
       " 'back': 987,\n",
       " 'broke': 1820,\n",
       " 'accidentally': 76,\n",
       " 'hit': 6064,\n",
       " 'once': 9956,\n",
       " 'your': 15805,\n",
       " 'completely': 2658,\n",
       " 'black': 1470,\n",
       " 'keep': 7502,\n",
       " 'getting': 5221,\n",
       " 'text': 13765,\n",
       " 'all': 316,\n",
       " 'cannot': 2054,\n",
       " 'check': 2295,\n",
       " 'thiphone': 13915,\n",
       " 'wallpaper': 15015,\n",
       " 'wall': 15010,\n",
       " 'galaxy': 5045,\n",
       " 'samsung': 11999,\n",
       " 'app': 570,\n",
       " 'billion': 1425,\n",
       " 'patent': 10285,\n",
       " 'where': 15231,\n",
       " 'prior': 10942,\n",
       " 'million': 8822,\n",
       " 'each': 3786,\n",
       " 'troll': 14272,\n",
       " 'partying': 10261,\n",
       " 'now': 9763,\n",
       " 'messed': 8733,\n",
       " 'done': 3554,\n",
       " 'nothing': 9729,\n",
       " 'myloss': 9274,\n",
       " 'touch': 14139,\n",
       " 'frozen': 4895,\n",
       " 'logo': 8136,\n",
       " 'start': 13098,\n",
       " 'lose': 8204,\n",
       " 'demi': 3250,\n",
       " 'kill': 7565,\n",
       " 'someone': 12815,\n",
       " 'soangry': 12753,\n",
       " 'hateapple': 5830,\n",
       " 'flower': 4660,\n",
       " 'green': 5560,\n",
       " 'diamond': 3360,\n",
       " 'pearl': 10347,\n",
       " 'must': 9221,\n",
       " 'watch': 15063,\n",
       " 'youtube': 15818,\n",
       " 'subscribe': 13293,\n",
       " 'daily': 3070,\n",
       " 'vlog': 14901,\n",
       " 'twitch': 14400,\n",
       " 'gaming': 5099,\n",
       " 'xbox': 15551,\n",
       " 'game': 5080,\n",
       " 'io': 6949,\n",
       " 'thank': 13796,\n",
       " 'live': 8062,\n",
       " 'laugh': 7806,\n",
       " 'life': 7956,\n",
       " 'food': 4711,\n",
       " 'philippine': 10444,\n",
       " 'instago': 6780,\n",
       " 'instahub': 6809,\n",
       " 'ch': 2246,\n",
       " 'cannon': 2053,\n",
       " 'suewee': 13323,\n",
       " 'friendship': 4869,\n",
       " 'americanbully': 407,\n",
       " 'dog': 3516,\n",
       " 'piggy': 10568,\n",
       " 'family': 4326,\n",
       " 'southerncharm': 12927,\n",
       " 'americanidol': 408,\n",
       " 'goal': 5356,\n",
       " 'bestfriends': 1322,\n",
       " 'pitbull': 10613,\n",
       " 'onelove': 9963,\n",
       " 'country': 2833,\n",
       " 'muscle': 9189,\n",
       " 'nfl': 9560,\n",
       " 'worldwide': 15468,\n",
       " 'america': 404,\n",
       " 'bigboy': 1406,\n",
       " 'thislife': 13931,\n",
       " 'tmz': 14052,\n",
       " 'wild': 15309,\n",
       " 'hoggpic': 6099,\n",
       " 'mn': 8935,\n",
       " 'ogpi': 9901,\n",
       " 'mimmo': 8830,\n",
       " 'al': 283,\n",
       " 'feb': 4413,\n",
       " 'taken': 13562,\n",
       " 'direzioneverticale': 3409,\n",
       " 'sunset': 13374,\n",
       " 'sky': 12605,\n",
       " 'cxifijj': 3040,\n",
       " 'sister': 12565,\n",
       " 'bought': 1691,\n",
       " 'early': 3796,\n",
       " 'gift': 5253,\n",
       " 'received': 11416,\n",
       " 'note': 9715,\n",
       " 'many': 8518,\n",
       " 'market': 8544,\n",
       " 'pipeline': 10605,\n",
       " 'why': 15283,\n",
       " 'delete': 3227,\n",
       " 'individual': 6650,\n",
       " 'song': 12823,\n",
       " 'itunes': 7147,\n",
       " 'everybody': 4158,\n",
       " 'freaking': 4820,\n",
       " 'here': 5995,\n",
       " 'duuude': 3746,\n",
       " 'window': 15323,\n",
       " 'more': 9046,\n",
       " 'advanced': 165,\n",
       " 'than': 13794,\n",
       " 'customization': 3015,\n",
       " 'standing': 13088,\n",
       " 'sirri': 12560,\n",
       " 'iously': 6966,\n",
       " 'bad': 1008,\n",
       " 'cheap': 2291,\n",
       " 'same': 11991,\n",
       " 're': 11373,\n",
       " 'tech': 13668,\n",
       " 'bull': 1888,\n",
       " 'instasize': 6874,\n",
       " 'legging': 7886,\n",
       " 'lightskin': 7983,\n",
       " 'curlyhair': 2995,\n",
       " 'bellypiercing': 1282,\n",
       " 'smile': 12698,\n",
       " 'potd': 10815,\n",
       " 'they': 13894,\n",
       " 'din': 3393,\n",
       " 'create': 2908,\n",
       " 'let': 7916,\n",
       " 'destroy': 3310,\n",
       " 'candid': 2044,\n",
       " 'sunday': 13350,\n",
       " 'sundayvibes': 13362,\n",
       " 'always': 372,\n",
       " 'eye': 4260,\n",
       " 'ootd': 10012,\n",
       " 'fashion': 4355,\n",
       " 'blackandwhite': 1472,\n",
       " 'poser': 10800,\n",
       " 'attitude': 849,\n",
       " 'lifeisgood': 7962,\n",
       " 'mylook': 9273,\n",
       " 'mylife': 9268,\n",
       " 'photoeveryday': 10486,\n",
       " 'lookoftheday': 8180,\n",
       " 'latepost': 7797,\n",
       " 'mylifepic': 9269,\n",
       " 'mmhcqyad': 8925,\n",
       " 'film': 4516,\n",
       " 'set': 12297,\n",
       " 'building': 1884,\n",
       " 'lapse': 7773,\n",
       " 'video': 14824,\n",
       " 'producer': 10963,\n",
       " 'videoproduction': 14832,\n",
       " 'follow': 4689,\n",
       " 'commercial': 2621,\n",
       " 'actor': 114,\n",
       " 'actress': 116,\n",
       " 'hollywood': 6118,\n",
       " 'losangeles': 8202,\n",
       " 'movie': 9106,\n",
       " 'acting': 106,\n",
       " 'startup': 13103,\n",
       " 'startupvideos': 13105,\n",
       " 'shotoniphonpic': 12447,\n",
       " 'eceiaine': 3844,\n",
       " 'cupcake': 2984,\n",
       " 'pink': 10587,\n",
       " 'sweet': 13473,\n",
       " 'cherry': 2322,\n",
       " 'eeeeee': 3881,\n",
       " 'sexy': 12317,\n",
       " 'lady': 7725,\n",
       " 'iphon': 6984,\n",
       " 'acquisto': 101,\n",
       " 'del': 3219,\n",
       " 'week': 15147,\n",
       " 'end': 4010,\n",
       " 'plus': 10700,\n",
       " 'gril': 5577,\n",
       " 'moment': 8991,\n",
       " 'italy': 7116,\n",
       " 'majestic': 8435,\n",
       " 'see': 12216,\n",
       " 'differently': 3381,\n",
       " 'photography': 10493,\n",
       " 'nature': 9364,\n",
       " 'landscape': 7762,\n",
       " 'forest': 4740,\n",
       " 'hidden': 6018,\n",
       " 'clearing': 2481,\n",
       " 'view': 14836,\n",
       " 'wood': 15410,\n",
       " 'tree': 14234,\n",
       " 'travel': 14207,\n",
       " 'biker': 1420,\n",
       " 'ziess': 15906,\n",
       " 'instgramhub': 6895,\n",
       " 'google': 5445,\n",
       " 'cut': 3019,\n",
       " 'get': 5204,\n",
       " 'program': 10977,\n",
       " 'ahhhh': 250,\n",
       " 'look': 8170,\n",
       " 'got': 5471,\n",
       " 'christmas': 2404,\n",
       " 'girl': 5278,\n",
       " 'instacool': 6735,\n",
       " 'bitcoinboy': 1456,\n",
       " 'free': 4824,\n",
       " 'kansa': 7472,\n",
       " 'georgia': 5194,\n",
       " 'talking': 13573,\n",
       " 'antoine': 530,\n",
       " 'ent': 4048,\n",
       " 'appstore': 668,\n",
       " 'at': 821,\n",
       " 'joy': 7373,\n",
       " 'peace': 10336,\n",
       " 'reflect': 11483,\n",
       " 'remember': 11554,\n",
       " 'cloud': 2507,\n",
       " 'cloudhub': 2508,\n",
       " 'skyhub': 12607,\n",
       " 'gr': 5494,\n",
       " 'baby': 977,\n",
       " 'babyboy': 978,\n",
       " 'muesli': 9159,\n",
       " 'hedgehog': 5954,\n",
       " 'pet': 10418,\n",
       " 'him': 6047,\n",
       " 'inbox': 6608,\n",
       " 'letter': 7923,\n",
       " 'editor': 3867,\n",
       " 'news': 9525,\n",
       " 'fail': 4297,\n",
       " 'funny': 4984,\n",
       " 'lolpic': 8147,\n",
       " 'ik': 6495,\n",
       " 'rhumovz': 11708,\n",
       " 'faster': 4369,\n",
       " 'hated': 5836,\n",
       " 'ye': 15698,\n",
       " 'tablet': 13536,\n",
       " 'personally': 10413,\n",
       " 'use': 14664,\n",
       " 'sense': 12267,\n",
       " 'fan': 4335,\n",
       " 'think': 13905,\n",
       " 'quite': 11241,\n",
       " 'gd': 5147,\n",
       " 'product': 10967,\n",
       " 'friday': 4859,\n",
       " 'called': 2003,\n",
       " 'blackfridaydeals': 1482,\n",
       " 'blackfriday': 1481,\n",
       " 'shop': 12429,\n",
       " 'holiday': 6110,\n",
       " 'newyork': 9542,\n",
       " 'business': 1924,\n",
       " 'crowd': 2945,\n",
       " 'money': 9007,\n",
       " 'birthday': 1442,\n",
       " 'tv': 14361,\n",
       " 'computer': 2669,\n",
       " 'lifehacks': 7958,\n",
       " 'school': 12144,\n",
       " 'seriously': 12286,\n",
       " 'afraid': 199,\n",
       " 'profit': 10974,\n",
       " 'going': 5386,\n",
       " 'into': 6929,\n",
       " 'else': 3961,\n",
       " 'pocket': 10715,\n",
       " 'other': 10094,\n",
       " 'supported': 13403,\n",
       " 'po': 10714,\n",
       " 'month': 9027,\n",
       " 'after': 205,\n",
       " 'good': 5405,\n",
       " 'job': 7331,\n",
       " 'having': 5882,\n",
       " 'actually': 118,\n",
       " 'killing': 7569,\n",
       " 'paying': 10315,\n",
       " 'replacement': 11582,\n",
       " 'still': 13153,\n",
       " 'programmed': 10979,\n",
       " 'basic': 1119,\n",
       " 'rt': 11885,\n",
       " 'lovescudi': 8243,\n",
       " 'droid': 3670,\n",
       " 'wait': 14990,\n",
       " 'double': 3595,\n",
       " 'saw': 12106,\n",
       " 'alyssa': 377,\n",
       " 'cool': 2765,\n",
       " 'picture': 10553,\n",
       " 'cycle': 3050,\n",
       " 'complete': 2656,\n",
       " 'froot': 4888,\n",
       " 'run': 11920,\n",
       " 'beach': 1172,\n",
       " 'sport': 13030,\n",
       " 'bit': 1450,\n",
       " 'hypocritical': 6334,\n",
       " 'hashtag': 5821,\n",
       " 'yet': 15735,\n",
       " 'quivering': 11242,\n",
       " 'anticipation': 525,\n",
       " 'arrival': 726,\n",
       " 'gain': 5040,\n",
       " 'follower': 4691,\n",
       " 'everyone': 4162,\n",
       " 'who': 15267,\n",
       " 'rts': 11889,\n",
       " 'sougofollow': 12907,\n",
       " 'ff': 4466,\n",
       " 'si': 12475,\n",
       " 'geometry': 5190,\n",
       " 'iphoneography': 7018,\n",
       " 'streetphotography': 13222,\n",
       " 'iphonephotography': 7023,\n",
       " 'mobilephotography': 8950,\n",
       " 'mobile': 8943,\n",
       " 'bright': 1798,\n",
       " 'user': 14669,\n",
       " 'fettish': 4463,\n",
       " 'techno': 13680,\n",
       " 'indie': 6643,\n",
       " 'dating': 3127,\n",
       " 'okcupid': 9922,\n",
       " 'can': 2031,\n",
       " 'le': 7848,\n",
       " 'random': 11310,\n",
       " 'instamood': 6834,\n",
       " 'loljk': 8140,\n",
       " 'shine': 12388,\n",
       " 'wine': 15327,\n",
       " 'copenhagen': 2776,\n",
       " 'creative': 2914,\n",
       " 'composer': 2665,\n",
       " 'denmark': 3262,\n",
       " 'hot': 6211,\n",
       " 'iconic': 6379,\n",
       " 'keepthefaith': 7505,\n",
       " 'mariajensen': 8534,\n",
       " 'original': 10071,\n",
       " 'pop': 10765,\n",
       " 'red': 11445,\n",
       " 'rock': 11804,\n",
       " 'soul': 12908,\n",
       " 'singer': 12542,\n",
       " 'songwriter': 12824,\n",
       " 'universal': 14569,\n",
       " 'warnerpic': 15045,\n",
       " 'gbeusyed': 5135,\n",
       " 'wedding': 15132,\n",
       " 'dvd': 3751,\n",
       " 'which': 15241,\n",
       " 'thought': 13941,\n",
       " 'lost': 8211,\n",
       " 'meliiecandy': 8682,\n",
       " 'ipadmini': 6972,\n",
       " 'soldes': 12797,\n",
       " 'instamoment': 6832,\n",
       " 'planeteig': 10643,\n",
       " 'feeling': 4427,\n",
       " 'broken': 1822,\n",
       " 'being': 1260,\n",
       " 'replaced': 11581,\n",
       " 'happiness': 5780,\n",
       " 'ygsuke': 15745,\n",
       " 'ce': 2200,\n",
       " 'light': 7974,\n",
       " 'please': 10688,\n",
       " 'lamp': 7754,\n",
       " 'pekanbaru': 10365,\n",
       " 'riau': 11710,\n",
       " 'indonesia': 6651,\n",
       " 'sonya': 12835,\n",
       " 'acquisition': 100,\n",
       " 'gold': 5394,\n",
       " 'brussels': 1850,\n",
       " 'texted': 13766,\n",
       " 'reset': 11609,\n",
       " 'sorry': 12890,\n",
       " 'inception': 6613,\n",
       " 'white': 15258,\n",
       " 'tea': 13638,\n",
       " 'chilling': 2361,\n",
       " 'carcasa': 2100,\n",
       " 'clear': 2479,\n",
       " 'cover': 2852,\n",
       " 'para': 10234,\n",
       " 'grandprime': 5521,\n",
       " 'felizdomingo': 4442,\n",
       " 'samsunggalaxy': 12010,\n",
       " 'felizlunes': 4443,\n",
       " 'felizsemana': 4446,\n",
       " 'oct': 9867,\n",
       " 'felizmartespic': 4444,\n",
       " 'xtldsjwpz': 15642,\n",
       " 'mighty': 8802,\n",
       " 'mouse': 9096,\n",
       " 'came': 2011,\n",
       " 'lithium': 8052,\n",
       " 'aa': 0,\n",
       " 'magic': 8405,\n",
       " 'come': 2597,\n",
       " 'alkaline': 315,\n",
       " 'followsunday': 4700,\n",
       " 'followback': 4690,\n",
       " 'teamfollowback': 13651,\n",
       " 'retweet': 11665,\n",
       " 'doing': 3536,\n",
       " 'ya': 15667,\n",
       " 'thing': 13902,\n",
       " 'tumble': 14334,\n",
       " 'dryer': 3696,\n",
       " 'been': 1235,\n",
       " 'already': 360,\n",
       " 'problem': 10955,\n",
       " 'occurred': 9861,\n",
       " 'iwant': 7162,\n",
       " 'issue': 7101,\n",
       " 'resolved': 11620,\n",
       " 'able': 27,\n",
       " 'return': 11662,\n",
       " 'sll': 12643,\n",
       " 'throwback': 13955,\n",
       " 'shoot': 12425,\n",
       " 'blury': 1578,\n",
       " 'btew': 1860,\n",
       " 'kx': 7702,\n",
       " 'call': 2001,\n",
       " 'put': 11125,\n",
       " 'absurd': 42,\n",
       " 'price': 10920,\n",
       " 'device': 3331,\n",
       " 'commonwealth': 2626,\n",
       " 'skye': 12606,\n",
       " 'nicolson': 9580,\n",
       " 'win': 15320,\n",
       " 'boxing': 1710,\n",
       " 'memory': 8699,\n",
       " 'her': 5992,\n",
       " 'brother': 1829,\n",
       " 'adaptive': 124,\n",
       " 'galatasaray': 5043,\n",
       " 'iherborder': 6488,\n",
       " 'presidenttrump': 10897,\n",
       " 'oh': 9902,\n",
       " 'any': 536,\n",
       " 'comment': 2619,\n",
       " 'lip': 8033,\n",
       " 'getalife': 5206,\n",
       " 'tecshit': 13699,\n",
       " 'enjoying': 4040,\n",
       " 'tombraider': 14081,\n",
       " 'laracroft': 7778,\n",
       " 'playstation': 10676,\n",
       " 'gamer': 5086,\n",
       " 'hunger': 6292,\n",
       " 'simpson': 12531,\n",
       " 'thehungergames': 13840,\n",
       " 'something': 12818,\n",
       " 'wrong': 15509,\n",
       " 'right': 11729,\n",
       " 'today': 14065,\n",
       " 'item': 7125,\n",
       " 'recommends': 11431,\n",
       " 'earphone': 3809,\n",
       " 'earpods': 3810,\n",
       " 'lifestyle': 7971,\n",
       " 'fuckyou': 4955,\n",
       " 'never': 9462,\n",
       " 'ending': 4013,\n",
       " 'bug': 1876,\n",
       " 'payed': 10314,\n",
       " 'buck': 1868,\n",
       " 'little': 8054,\n",
       " 'quality': 11207,\n",
       " 'anotherangrycustomer': 517,\n",
       " 'girlfriend': 5281,\n",
       " 'gf': 5228,\n",
       " 'bf': 1366,\n",
       " 'card': 2101,\n",
       " 'soppy': 12886,\n",
       " 'present': 10890,\n",
       " 'mom': 8988,\n",
       " 'macbookpro': 8364,\n",
       " 'macbook': 8362,\n",
       " 'stockholm': 13170,\n",
       " 'sweden': 13468,\n",
       " 'compute': 2668,\n",
       " 'quote': 11246,\n",
       " 'wisdom': 15355,\n",
       " 'word': 15426,\n",
       " 'tweetgram': 14381,\n",
       " 'applaud': 582,\n",
       " 'sheffield': 12374,\n",
       " 'customer': 3006,\n",
       " 'great': 5544,\n",
       " 'repair': 11573,\n",
       " 'few': 4464,\n",
       " 'hour': 6226,\n",
       " 'everything': 4164,\n",
       " 'due': 3722,\n",
       " 'recovery': 11442,\n",
       " 'mode': 8964,\n",
       " 'hater': 5858,\n",
       " 'yousuck': 15816,\n",
       " 'briantong': 1786,\n",
       " 'easytotalk': 3828,\n",
       " 'producesomething': 10965,\n",
       " 'usa': 14658,\n",
       " 'company': 2635,\n",
       " 'korean': 7653,\n",
       " 'loser': 8205,\n",
       " 'working': 15441,\n",
       " 'server': 12291,\n",
       " 'dumb': 3729,\n",
       " 'scheduled': 12139,\n",
       " 'maintenance': 8431,\n",
       " 'model': 8965,\n",
       " 'byhilalak': 1964,\n",
       " 'urbanears': 14645,\n",
       " 'handmade': 5751,\n",
       " 'hayatinarenkkat': 5891,\n",
       " 'vicio': 14811,\n",
       " 'nellyfurtado': 9428,\n",
       " 'nelstar': 9431,\n",
       " 'playingnow': 10670,\n",
       " 'diva': 3471,\n",
       " 'cd': 2196,\n",
       " 'feature': 4412,\n",
       " 'did': 3370,\n",
       " 'yourtechcompany': 15814,\n",
       " 'iza': 7181,\n",
       " 'box': 1705,\n",
       " 'yey': 15739,\n",
       " 'sonyxperiaz': 12873,\n",
       " 'blessed': 1517,\n",
       " 'feliz': 4441,\n",
       " 'bado': 1019,\n",
       " 'con': 2674,\n",
       " 'caf': 1983,\n",
       " 'coffee': 2557,\n",
       " 'pantry': 10225,\n",
       " 'dreamy': 3655,\n",
       " 'effect': 3886,\n",
       " 'created': 2909,\n",
       " 'straight': 13200,\n",
       " 'impressive': 6590,\n",
       " 'spring': 13040,\n",
       " 'blossom': 1554,\n",
       " 'finalllllly': 4531,\n",
       " 'galaxynote': 5060,\n",
       " 'awsome': 951,\n",
       " 'beamman': 1183,\n",
       " 'best': 1310,\n",
       " 'special': 12968,\n",
       " 'valentine': 14708,\n",
       " 'nowplaying': 9770,\n",
       " 'daughter': 3130,\n",
       " 'poem': 10720,\n",
       " 'erie': 4094,\n",
       " 'pa': 10175,\n",
       " 'car': 2094,\n",
       " 'sign': 12496,\n",
       " 'iloveyou': 6539,\n",
       " 'lunch': 8307,\n",
       " 'park': 10248,\n",
       " 'carrot': 2124,\n",
       " 'banana': 1066,\n",
       " 'lovely': 8238,\n",
       " 'autumn': 899,\n",
       " 'leaf': 7851,\n",
       " 'confession': 2692,\n",
       " 'spend': 12989,\n",
       " 'confessing': 2691,\n",
       " 'our': 10111,\n",
       " 'faith': 4309,\n",
       " 'sin': 12535,\n",
       " 'much': 9152,\n",
       " 'book': 1640,\n",
       " 'flickr': 4634,\n",
       " 'say': 12108,\n",
       " 'fuck': 4918,\n",
       " 'took': 14097,\n",
       " 'download': 3613,\n",
       " 'hate': 5827,\n",
       " 'westcoast': 15188,\n",
       " 'huntington': 6297,\n",
       " 'added': 128,\n",
       " 'myself': 9285,\n",
       " 'directory': 3408,\n",
       " 'under': 14531,\n",
       " 'york': 15791,\n",
       " 'ny': 9820,\n",
       " 'education': 3876,\n",
       " 'losin': 8206,\n",
       " 'reception': 11420,\n",
       " 'missed': 8882,\n",
       " 'last': 7785,\n",
       " 'min': 8831,\n",
       " 'jump': 7411,\n",
       " 'rid': 11719,\n",
       " 'absolutely': 41,\n",
       " 'tmobile': 14048,\n",
       " 'taste': 13610,\n",
       " 'frank': 4808,\n",
       " 'ocean': 9863,\n",
       " 'annoying': 512,\n",
       " 'finish': 4550,\n",
       " 'level': 7925,\n",
       " 'buy': 1945,\n",
       " 'full': 4965,\n",
       " 'version': 14779,\n",
       " 'wear': 15110,\n",
       " 'important': 6584,\n",
       " 'mood': 9033,\n",
       " 'bos': 1674,\n",
       " 'blog': 1538,\n",
       " 'style': 13277,\n",
       " 'wcw': 15099,\n",
       " 'wce': 15094,\n",
       " 'bestoftheday': 1338,\n",
       " 'pretty': 10907,\n",
       " 'babe': 971,\n",
       " 'wednesday': 15138,\n",
       " 'funpic': 4987,\n",
       " 'ggnuvxbv': 5237,\n",
       " 'send': 12263,\n",
       " 'turn': 14348,\n",
       " 'imessage': 6561,\n",
       " 'off': 9883,\n",
       " 'fanta': 4343,\n",
       " 'delish': 3240,\n",
       " 'sundayfunday': 13353,\n",
       " 'healing': 5924,\n",
       " 'she': 12369,\n",
       " 'sleep': 12621,\n",
       " 'lap': 7769,\n",
       " 'babygirl': 980,\n",
       " 'popular': 10776,\n",
       " 'loverly': 8242,\n",
       " 'tweet': 14376,\n",
       " 'rabbitsofinstagram': 11264,\n",
       " 'bunniesofinstagram': 1905,\n",
       " 'rabbit': 11262,\n",
       " 'hop': 6182,\n",
       " 'bounce': 1693,\n",
       " 'charlie': 2278,\n",
       " 'houserabbit': 6230,\n",
       " 'bunnylove': 1907,\n",
       " 'rabbitsofig': 11263,\n",
       " 'shotoniphone': 12446,\n",
       " 'photographer': 10491,\n",
       " 'chuck': 2418,\n",
       " 'charles': 2275,\n",
       " 'gpw': 5490,\n",
       " 'nfuzwh': 9563,\n",
       " 'lucien': 8282,\n",
       " 'swarovski': 13460,\n",
       " 'crystal': 2961,\n",
       " 'vegan': 14745,\n",
       " 'glutenfree': 5341,\n",
       " 'silly': 12514,\n",
       " 'sally': 11982,\n",
       " 'diner': 3395,\n",
       " 'these': 13878,\n",
       " 'syncing': 13519,\n",
       " 'only': 9987,\n",
       " 'hear': 5938,\n",
       " 'second': 12205,\n",
       " 'mmlp': 8926,\n",
       " 'fml': 4666,\n",
       " 'candy': 2046,\n",
       " 'beatiful': 1196,\n",
       " 'beaty': 1201,\n",
       " 'nice': 9571,\n",
       " 'fo': 4669,\n",
       " 'over': 10135,\n",
       " 'hand': 5744,\n",
       " 'spacegray': 12938,\n",
       " 'gb': 5134,\n",
       " 'ogo': 9900,\n",
       " 'gkeopw': 5305,\n",
       " 'unpacking': 14589,\n",
       " 'compact': 2632,\n",
       " 'first': 4565,\n",
       " 'impression': 6589,\n",
       " 'blo': 1531,\n",
       " 'osu': 10087,\n",
       " 'progress': 10982,\n",
       " 'bar': 1097,\n",
       " 'key': 7530,\n",
       " 'long': 8160,\n",
       " 'give': 5292,\n",
       " 'cold': 2566,\n",
       " 'boot': 1653,\n",
       " 'fear': 4407,\n",
       " 'siri': 12555,\n",
       " 'understand': 14536,\n",
       " 'command': 2616,\n",
       " 'nephew': 9438,\n",
       " 'shot': 12443,\n",
       " 'endless': 4014,\n",
       " 'photoofthaday': 10503,\n",
       " 'literally': 8049,\n",
       " 'cry': 2960,\n",
       " 'contact': 2730,\n",
       " 'wonder': 15401,\n",
       " 'available': 906,\n",
       " 'compare': 2637,\n",
       " 'fiiiiin': 4504,\n",
       " 'laptop': 7774,\n",
       " 'vaio': 14705,\n",
       " 'minnie': 8855,\n",
       " 'inlove': 6695,\n",
       " 'blackberry': 1475,\n",
       " 'occasionally': 9859,\n",
       " 'fruit': 4896,\n",
       " 'fall': 4313,\n",
       " 'worry': 15472,\n",
       " 'thou': 13939,\n",
       " 'soon': 12876,\n",
       " 'username': 14670,\n",
       " 'splinkio': 13015,\n",
       " ...}"
      ]
     },
     "execution_count": 122,
     "metadata": {},
     "output_type": "execute_result"
    }
   ],
   "source": [
    "CV_pipe['CV'].vocabulary_"
   ]
  },
  {
   "cell_type": "markdown",
   "id": "3e57b080",
   "metadata": {},
   "source": [
    "# LR Model without vs with stop_words ??"
   ]
  },
  {
   "cell_type": "code",
   "execution_count": 126,
   "id": "2fc1657d",
   "metadata": {},
   "outputs": [
    {
     "name": "stdout",
     "output_type": "stream",
     "text": [
      "86.87 1.07\n"
     ]
    },
    {
     "data": {
      "text/plain": [
       "15673"
      ]
     },
     "execution_count": 126,
     "metadata": {},
     "output_type": "execute_result"
    }
   ],
   "source": [
    "# Create a pipeline & cross-validate\n",
    "from sklearn.pipeline import make_pipeline, Pipeline\n",
    "\n",
    "X = data['cleaned_tweets_w/o_SW']\n",
    "y = data['label']\n",
    "\n",
    "CV = CountVectorizer(stop_words=final_stopwords)\n",
    "LR1 = LogisticRegression(class_weight='balanced', solver='liblinear', penalty='l1', C=0.4)\n",
    "\n",
    "CV_pipe = Pipeline([('CV', CV) , ('LR', LR1)] )\n",
    "\n",
    "results = cross_val_score(CV_pipe, X, y, cv=kfold, scoring='accuracy')\n",
    "print(np.round((results.mean())*100, 2), np.round((results.std())*100, 2)) \n",
    "\n",
    "CV_pipe.fit(X,y)\n",
    "len(CV_pipe['CV'].vocabulary_) "
   ]
  },
  {
   "cell_type": "code",
   "execution_count": null,
   "id": "606e4b90",
   "metadata": {},
   "outputs": [],
   "source": []
  },
  {
   "cell_type": "code",
   "execution_count": 127,
   "id": "9f75bc20",
   "metadata": {},
   "outputs": [
    {
     "name": "stdout",
     "output_type": "stream",
     "text": [
      "86.77 1.03\n"
     ]
    },
    {
     "data": {
      "text/plain": [
       "1086"
      ]
     },
     "execution_count": 127,
     "metadata": {},
     "output_type": "execute_result"
    }
   ],
   "source": [
    "# Create a pipeline & cross-validate\n",
    "from sklearn.pipeline import make_pipeline, Pipeline\n",
    "\n",
    "X = data['cleaned_tweets_w/o_SW']\n",
    "y = data['label']\n",
    "\n",
    "CV = CountVectorizer(stop_words=final_stopwords, min_df=10, max_features=None)\n",
    "LR1 = LogisticRegression(class_weight='balanced', solver='liblinear', penalty='l1', C=0.4)\n",
    "\n",
    "CV_pipe = Pipeline([('CV', CV) , ('LR', LR1)] )\n",
    "\n",
    "results = cross_val_score(CV_pipe, X, y, cv=kfold, scoring='accuracy')\n",
    "print(np.round((results.mean())*100, 2), np.round((results.std())*100, 2)) \n",
    "\n",
    "CV_pipe.fit(X,y)\n",
    "len(CV_pipe['CV'].vocabulary_) "
   ]
  },
  {
   "cell_type": "code",
   "execution_count": null,
   "id": "c2c699cb",
   "metadata": {},
   "outputs": [],
   "source": []
  },
  {
   "cell_type": "code",
   "execution_count": 128,
   "id": "661e80ad",
   "metadata": {},
   "outputs": [
    {
     "name": "stdout",
     "output_type": "stream",
     "text": [
      "86.78 1.04\n"
     ]
    },
    {
     "data": {
      "text/plain": [
       "1000"
      ]
     },
     "execution_count": 128,
     "metadata": {},
     "output_type": "execute_result"
    }
   ],
   "source": [
    "# Create a pipeline & cross-validate\n",
    "from sklearn.pipeline import make_pipeline, Pipeline\n",
    "\n",
    "X = data['cleaned_tweets_w/o_SW']\n",
    "y = data['label']\n",
    "\n",
    "CV = CountVectorizer(stop_words=final_stopwords, min_df=10, max_features=1000)\n",
    "LR1 = LogisticRegression(class_weight='balanced', solver='liblinear', penalty='l1', C=0.4)\n",
    "\n",
    "CV_pipe = Pipeline([('CV', CV) , ('LR', LR1)] )\n",
    "\n",
    "results = cross_val_score(CV_pipe, X, y, cv=kfold, scoring='accuracy')\n",
    "print(np.round((results.mean())*100, 2), np.round((results.std())*100, 2)) \n",
    "\n",
    "CV_pipe.fit(X,y)\n",
    "len(CV_pipe['CV'].vocabulary_) "
   ]
  },
  {
   "cell_type": "code",
   "execution_count": null,
   "id": "92f20510",
   "metadata": {},
   "outputs": [],
   "source": []
  },
  {
   "cell_type": "code",
   "execution_count": null,
   "id": "2978de43",
   "metadata": {},
   "outputs": [],
   "source": []
  }
 ],
 "metadata": {
  "kernelspec": {
   "display_name": "Python 3 (ipykernel)",
   "language": "python",
   "name": "python3"
  },
  "language_info": {
   "codemirror_mode": {
    "name": "ipython",
    "version": 3
   },
   "file_extension": ".py",
   "mimetype": "text/x-python",
   "name": "python",
   "nbconvert_exporter": "python",
   "pygments_lexer": "ipython3",
   "version": "3.10.0"
  }
 },
 "nbformat": 4,
 "nbformat_minor": 5
}
